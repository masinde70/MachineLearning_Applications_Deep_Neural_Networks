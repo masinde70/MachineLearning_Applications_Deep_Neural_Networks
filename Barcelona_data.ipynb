{
 "cells": [
  {
   "cell_type": "code",
   "execution_count": 1,
   "metadata": {},
   "outputs": [
    {
     "data": {
      "text/html": [
       "<div>\n",
       "<style scoped>\n",
       "    .dataframe tbody tr th:only-of-type {\n",
       "        vertical-align: middle;\n",
       "    }\n",
       "\n",
       "    .dataframe tbody tr th {\n",
       "        vertical-align: top;\n",
       "    }\n",
       "\n",
       "    .dataframe thead th {\n",
       "        text-align: right;\n",
       "    }\n",
       "</style>\n",
       "<table border=\"1\" class=\"dataframe\">\n",
       "  <thead>\n",
       "    <tr style=\"text-align: right;\">\n",
       "      <th></th>\n",
       "      <th>Id</th>\n",
       "      <th>District Name</th>\n",
       "      <th>Neighborhood Name</th>\n",
       "      <th>Street</th>\n",
       "      <th>Weekday</th>\n",
       "      <th>Month</th>\n",
       "      <th>Day</th>\n",
       "      <th>Hour</th>\n",
       "      <th>Part of the day</th>\n",
       "      <th>Mild injuries</th>\n",
       "      <th>Serious injuries</th>\n",
       "      <th>Victims</th>\n",
       "      <th>Vehicles involved</th>\n",
       "      <th>Longitude</th>\n",
       "      <th>Latitude</th>\n",
       "    </tr>\n",
       "  </thead>\n",
       "  <tbody>\n",
       "    <tr>\n",
       "      <th>0</th>\n",
       "      <td>2017S008429</td>\n",
       "      <td>Unknown</td>\n",
       "      <td>Unknown</td>\n",
       "      <td>Número 27                                     ...</td>\n",
       "      <td>Friday</td>\n",
       "      <td>October</td>\n",
       "      <td>13</td>\n",
       "      <td>8</td>\n",
       "      <td>Morning</td>\n",
       "      <td>2</td>\n",
       "      <td>0</td>\n",
       "      <td>2</td>\n",
       "      <td>2</td>\n",
       "      <td>2.125624</td>\n",
       "      <td>41.340045</td>\n",
       "    </tr>\n",
       "    <tr>\n",
       "      <th>1</th>\n",
       "      <td>2017S007316</td>\n",
       "      <td>Unknown</td>\n",
       "      <td>Unknown</td>\n",
       "      <td>Número 3 Zona Franca / Número 50 Zona Franca  ...</td>\n",
       "      <td>Friday</td>\n",
       "      <td>September</td>\n",
       "      <td>1</td>\n",
       "      <td>13</td>\n",
       "      <td>Morning</td>\n",
       "      <td>2</td>\n",
       "      <td>0</td>\n",
       "      <td>2</td>\n",
       "      <td>2</td>\n",
       "      <td>2.120452</td>\n",
       "      <td>41.339426</td>\n",
       "    </tr>\n",
       "    <tr>\n",
       "      <th>2</th>\n",
       "      <td>2017S010210</td>\n",
       "      <td>Unknown</td>\n",
       "      <td>Unknown</td>\n",
       "      <td>Litoral (Besòs)                               ...</td>\n",
       "      <td>Friday</td>\n",
       "      <td>December</td>\n",
       "      <td>8</td>\n",
       "      <td>21</td>\n",
       "      <td>Afternoon</td>\n",
       "      <td>5</td>\n",
       "      <td>0</td>\n",
       "      <td>5</td>\n",
       "      <td>2</td>\n",
       "      <td>2.167356</td>\n",
       "      <td>41.360885</td>\n",
       "    </tr>\n",
       "    <tr>\n",
       "      <th>3</th>\n",
       "      <td>2017S006364</td>\n",
       "      <td>Unknown</td>\n",
       "      <td>Unknown</td>\n",
       "      <td>Número 3 Zona Franca                          ...</td>\n",
       "      <td>Friday</td>\n",
       "      <td>July</td>\n",
       "      <td>21</td>\n",
       "      <td>2</td>\n",
       "      <td>Night</td>\n",
       "      <td>1</td>\n",
       "      <td>0</td>\n",
       "      <td>1</td>\n",
       "      <td>2</td>\n",
       "      <td>2.124529</td>\n",
       "      <td>41.337668</td>\n",
       "    </tr>\n",
       "    <tr>\n",
       "      <th>4</th>\n",
       "      <td>2017S004615</td>\n",
       "      <td>Sant Martí</td>\n",
       "      <td>el Camp de l'Arpa del Clot</td>\n",
       "      <td>Las Navas de Tolosa                           ...</td>\n",
       "      <td>Thursday</td>\n",
       "      <td>May</td>\n",
       "      <td>25</td>\n",
       "      <td>14</td>\n",
       "      <td>Afternoon</td>\n",
       "      <td>1</td>\n",
       "      <td>0</td>\n",
       "      <td>1</td>\n",
       "      <td>3</td>\n",
       "      <td>2.185272</td>\n",
       "      <td>41.416365</td>\n",
       "    </tr>\n",
       "  </tbody>\n",
       "</table>\n",
       "</div>"
      ],
      "text/plain": [
       "                Id District Name           Neighborhood Name  \\\n",
       "0  2017S008429           Unknown                     Unknown   \n",
       "1  2017S007316           Unknown                     Unknown   \n",
       "2  2017S010210           Unknown                     Unknown   \n",
       "3  2017S006364           Unknown                     Unknown   \n",
       "4  2017S004615        Sant Martí  el Camp de l'Arpa del Clot   \n",
       "\n",
       "                                              Street   Weekday      Month  \\\n",
       "0  Número 27                                     ...    Friday    October   \n",
       "1  Número 3 Zona Franca / Número 50 Zona Franca  ...    Friday  September   \n",
       "2  Litoral (Besòs)                               ...    Friday   December   \n",
       "3  Número 3 Zona Franca                          ...    Friday       July   \n",
       "4  Las Navas de Tolosa                           ...  Thursday        May   \n",
       "\n",
       "   Day  Hour Part of the day  Mild injuries  Serious injuries  Victims  \\\n",
       "0   13     8         Morning              2                 0        2   \n",
       "1    1    13         Morning              2                 0        2   \n",
       "2    8    21       Afternoon              5                 0        5   \n",
       "3   21     2           Night              1                 0        1   \n",
       "4   25    14       Afternoon              1                 0        1   \n",
       "\n",
       "   Vehicles involved  Longitude   Latitude  \n",
       "0                  2   2.125624  41.340045  \n",
       "1                  2   2.120452  41.339426  \n",
       "2                  2   2.167356  41.360885  \n",
       "3                  2   2.124529  41.337668  \n",
       "4                  3   2.185272  41.416365  "
      ]
     },
     "execution_count": 1,
     "metadata": {},
     "output_type": "execute_result"
    }
   ],
   "source": [
    "import pandas as pd\n",
    "\n",
    "df = pd.read_csv('accidents_2017.csv')\n",
    "df.head()"
   ]
  },
  {
   "cell_type": "code",
   "execution_count": 3,
   "metadata": {},
   "outputs": [
    {
     "data": {
      "text/plain": [
       "Index(['Id', 'District Name', 'Neighborhood Name', 'Street', 'Weekday',\n",
       "       'Month', 'Day', 'Hour', 'Part of the day', 'Mild injuries',\n",
       "       'Serious injuries', 'Victims', 'Vehicles involved', 'Longitude',\n",
       "       'Latitude'],\n",
       "      dtype='object')"
      ]
     },
     "execution_count": 3,
     "metadata": {},
     "output_type": "execute_result"
    }
   ],
   "source": [
    "df.columns"
   ]
  },
  {
   "cell_type": "code",
   "execution_count": 5,
   "metadata": {},
   "outputs": [
    {
     "name": "stdout",
     "output_type": "stream",
     "text": [
      "<class 'pandas.core.frame.DataFrame'>\n",
      "RangeIndex: 10339 entries, 0 to 10338\n",
      "Data columns (total 15 columns):\n",
      " #   Column             Non-Null Count  Dtype  \n",
      "---  ------             --------------  -----  \n",
      " 0   Id                 10339 non-null  object \n",
      " 1   District Name      10339 non-null  object \n",
      " 2   Neighborhood Name  10339 non-null  object \n",
      " 3   Street             10339 non-null  object \n",
      " 4   Weekday            10339 non-null  object \n",
      " 5   Month              10339 non-null  object \n",
      " 6   Day                10339 non-null  int64  \n",
      " 7   Hour               10339 non-null  int64  \n",
      " 8   Part of the day    10339 non-null  object \n",
      " 9   Mild injuries      10339 non-null  int64  \n",
      " 10  Serious injuries   10339 non-null  int64  \n",
      " 11  Victims            10339 non-null  int64  \n",
      " 12  Vehicles involved  10339 non-null  int64  \n",
      " 13  Longitude          10339 non-null  float64\n",
      " 14  Latitude           10339 non-null  float64\n",
      "dtypes: float64(2), int64(6), object(7)\n",
      "memory usage: 1.2+ MB\n"
     ]
    }
   ],
   "source": [
    "# List of columns names\n",
    "\n",
    "df.info()"
   ]
  },
  {
   "cell_type": "code",
   "execution_count": 6,
   "metadata": {},
   "outputs": [
    {
     "name": "stdout",
     "output_type": "stream",
     "text": [
      "<class 'pandas.core.frame.DataFrame'>\n",
      "RangeIndex: 10339 entries, 0 to 10338\n",
      "Data columns (total 15 columns):\n",
      " #   Column             Non-Null Count  Dtype  \n",
      "---  ------             --------------  -----  \n",
      " 0   Id                 10339 non-null  object \n",
      " 1   District Name      10312 non-null  object \n",
      " 2   Neighborhood Name  10312 non-null  object \n",
      " 3   Street             10339 non-null  object \n",
      " 4   Weekday            10339 non-null  object \n",
      " 5   Month              10339 non-null  object \n",
      " 6   Day                10339 non-null  int64  \n",
      " 7   Hour               10339 non-null  int64  \n",
      " 8   Part of the day    10339 non-null  object \n",
      " 9   Mild injuries      10339 non-null  int64  \n",
      " 10  Serious injuries   10339 non-null  int64  \n",
      " 11  Victims            10339 non-null  int64  \n",
      " 12  Vehicles involved  10339 non-null  int64  \n",
      " 13  Longitude          10339 non-null  float64\n",
      " 14  Latitude           10339 non-null  float64\n",
      "dtypes: float64(2), int64(6), object(7)\n",
      "memory usage: 1.2+ MB\n"
     ]
    }
   ],
   "source": [
    "import numpy as np\n",
    "\n",
    "# Apparently, there are not null values\n",
    "\n",
    "df.isnull().sum().any()\n",
    "\n",
    "# False meaning there are not null values\n",
    "\n",
    "# replace Unknown with n.a\n",
    "\n",
    "df.replace('Unknown', np.nan, inplace=True)\n",
    "\n",
    "# Now, there are null values\n",
    "df.isnull().sum().any()\n",
    "\n",
    "#True\n",
    "\n",
    "#Access number of null values using the .info() method\n",
    "df.info()"
   ]
  },
  {
   "cell_type": "markdown",
   "metadata": {},
   "source": [
    "## We can analyze where accident happened using the longitude and Latitude\n"
   ]
  },
  {
   "cell_type": "markdown",
   "metadata": {},
   "source": [
    "### Before we start to draw conclusions using our data, we are going to clean it. The first cleaning step consists of droping unnessary columns to simplify the data frame"
   ]
  },
  {
   "cell_type": "markdown",
   "metadata": {},
   "source": [
    "## Data cleaning"
   ]
  },
  {
   "cell_type": "code",
   "execution_count": 7,
   "metadata": {},
   "outputs": [
    {
     "data": {
      "text/plain": [
       "Index(['Id', 'Street', 'Weekday', 'Month', 'Day', 'Hour', 'Mild injuries',\n",
       "       'Serious injuries', 'Victims', 'Vehicles involved', 'Longitude',\n",
       "       'Latitude'],\n",
       "      dtype='object')"
      ]
     },
     "execution_count": 7,
     "metadata": {},
     "output_type": "execute_result"
    }
   ],
   "source": [
    "# Drop unnecessary columns\n",
    "df.drop(['District Name', 'Neighborhood Name', 'Part of the day',], axis=1, inplace=True)\n",
    "\n",
    "#columns after dropping\n",
    "df.columns"
   ]
  },
  {
   "cell_type": "markdown",
   "metadata": {},
   "source": [
    "#### Change columns names. replace spaces by underscore and upper case letters."
   ]
  },
  {
   "cell_type": "code",
   "execution_count": 8,
   "metadata": {},
   "outputs": [
    {
     "data": {
      "text/plain": [
       "Index(['id', 'street', 'weekday', 'month', 'day', 'hour', 'mild_injuries',\n",
       "       'serious_injuries', 'victims', 'vehicles_involved', 'longitude',\n",
       "       'latitude'],\n",
       "      dtype='object')"
      ]
     },
     "execution_count": 8,
     "metadata": {},
     "output_type": "execute_result"
    }
   ],
   "source": [
    "df.rename(columns=lambda x:x.replace(' ','_').lower(), inplace=True)\n",
    "df.columns"
   ]
  },
  {
   "cell_type": "markdown",
   "metadata": {},
   "source": [
    "\n",
    "#### Add a column with the year in this case 2017\n"
   ]
  },
  {
   "cell_type": "code",
   "execution_count": 12,
   "metadata": {},
   "outputs": [
    {
     "data": {
      "text/html": [
       "<div>\n",
       "<style scoped>\n",
       "    .dataframe tbody tr th:only-of-type {\n",
       "        vertical-align: middle;\n",
       "    }\n",
       "\n",
       "    .dataframe tbody tr th {\n",
       "        vertical-align: top;\n",
       "    }\n",
       "\n",
       "    .dataframe thead th {\n",
       "        text-align: right;\n",
       "    }\n",
       "</style>\n",
       "<table border=\"1\" class=\"dataframe\">\n",
       "  <thead>\n",
       "    <tr style=\"text-align: right;\">\n",
       "      <th></th>\n",
       "      <th>id</th>\n",
       "      <th>street</th>\n",
       "      <th>weekday</th>\n",
       "      <th>month</th>\n",
       "      <th>day</th>\n",
       "      <th>hour</th>\n",
       "      <th>mild_injuries</th>\n",
       "      <th>serious_injuries</th>\n",
       "      <th>victims</th>\n",
       "      <th>vehicles_involved</th>\n",
       "      <th>longitude</th>\n",
       "      <th>latitude</th>\n",
       "      <th>year</th>\n",
       "    </tr>\n",
       "  </thead>\n",
       "  <tbody>\n",
       "    <tr>\n",
       "      <th>0</th>\n",
       "      <td>2017S008429</td>\n",
       "      <td>Número 27                                     ...</td>\n",
       "      <td>Friday</td>\n",
       "      <td>October</td>\n",
       "      <td>13</td>\n",
       "      <td>8</td>\n",
       "      <td>2</td>\n",
       "      <td>0</td>\n",
       "      <td>2</td>\n",
       "      <td>2</td>\n",
       "      <td>2.125624</td>\n",
       "      <td>41.340045</td>\n",
       "      <td>2017</td>\n",
       "    </tr>\n",
       "    <tr>\n",
       "      <th>1</th>\n",
       "      <td>2017S007316</td>\n",
       "      <td>Número 3 Zona Franca / Número 50 Zona Franca  ...</td>\n",
       "      <td>Friday</td>\n",
       "      <td>September</td>\n",
       "      <td>1</td>\n",
       "      <td>13</td>\n",
       "      <td>2</td>\n",
       "      <td>0</td>\n",
       "      <td>2</td>\n",
       "      <td>2</td>\n",
       "      <td>2.120452</td>\n",
       "      <td>41.339426</td>\n",
       "      <td>2017</td>\n",
       "    </tr>\n",
       "    <tr>\n",
       "      <th>2</th>\n",
       "      <td>2017S010210</td>\n",
       "      <td>Litoral (Besòs)                               ...</td>\n",
       "      <td>Friday</td>\n",
       "      <td>December</td>\n",
       "      <td>8</td>\n",
       "      <td>21</td>\n",
       "      <td>5</td>\n",
       "      <td>0</td>\n",
       "      <td>5</td>\n",
       "      <td>2</td>\n",
       "      <td>2.167356</td>\n",
       "      <td>41.360885</td>\n",
       "      <td>2017</td>\n",
       "    </tr>\n",
       "    <tr>\n",
       "      <th>3</th>\n",
       "      <td>2017S006364</td>\n",
       "      <td>Número 3 Zona Franca                          ...</td>\n",
       "      <td>Friday</td>\n",
       "      <td>July</td>\n",
       "      <td>21</td>\n",
       "      <td>2</td>\n",
       "      <td>1</td>\n",
       "      <td>0</td>\n",
       "      <td>1</td>\n",
       "      <td>2</td>\n",
       "      <td>2.124529</td>\n",
       "      <td>41.337668</td>\n",
       "      <td>2017</td>\n",
       "    </tr>\n",
       "    <tr>\n",
       "      <th>4</th>\n",
       "      <td>2017S004615</td>\n",
       "      <td>Las Navas de Tolosa                           ...</td>\n",
       "      <td>Thursday</td>\n",
       "      <td>May</td>\n",
       "      <td>25</td>\n",
       "      <td>14</td>\n",
       "      <td>1</td>\n",
       "      <td>0</td>\n",
       "      <td>1</td>\n",
       "      <td>3</td>\n",
       "      <td>2.185272</td>\n",
       "      <td>41.416365</td>\n",
       "      <td>2017</td>\n",
       "    </tr>\n",
       "  </tbody>\n",
       "</table>\n",
       "</div>"
      ],
      "text/plain": [
       "                id                                             street  \\\n",
       "0  2017S008429      Número 27                                     ...   \n",
       "1  2017S007316      Número 3 Zona Franca / Número 50 Zona Franca  ...   \n",
       "2  2017S010210      Litoral (Besòs)                               ...   \n",
       "3  2017S006364      Número 3 Zona Franca                          ...   \n",
       "4  2017S004615      Las Navas de Tolosa                           ...   \n",
       "\n",
       "    weekday      month  day  hour  mild_injuries  serious_injuries  victims  \\\n",
       "0    Friday    October   13     8              2                 0        2   \n",
       "1    Friday  September    1    13              2                 0        2   \n",
       "2    Friday   December    8    21              5                 0        5   \n",
       "3    Friday       July   21     2              1                 0        1   \n",
       "4  Thursday        May   25    14              1                 0        1   \n",
       "\n",
       "   vehicles_involved  longitude   latitude  year  \n",
       "0                  2   2.125624  41.340045  2017  \n",
       "1                  2   2.120452  41.339426  2017  \n",
       "2                  2   2.167356  41.360885  2017  \n",
       "3                  2   2.124529  41.337668  2017  \n",
       "4                  3   2.185272  41.416365  2017  "
      ]
     },
     "execution_count": 12,
     "metadata": {},
     "output_type": "execute_result"
    }
   ],
   "source": [
    "df['year']=np.repeat(2017, df.shape[0])\n",
    "df.head()"
   ]
  },
  {
   "cell_type": "markdown",
   "metadata": {},
   "source": [
    "##### we can combine weekday, month, day, hour, and year into one single column called date.\n",
    "                And to avoid a ValueError, we have to convert month names into integers before using the pandas.to datetime function\n"
   ]
  },
  {
   "cell_type": "code",
   "execution_count": null,
   "metadata": {},
   "outputs": [],
   "source": [
    "# Obtain month names\n",
    "list(df.month.unique())\n",
    "\n",
    "#Month names to int\n",
    "month_to_int = {'January':1, 'February':2, 'April':4, 'May':5, 'June':6, 'July':7, 'August':8, 'September':9, 'October':10, 'November':11, 'December':12}\n",
    "\n",
    "#convert month names to numbers\n",
    "df['month'].replace(month_to_int, inplace=True)\n",
    "\n",
    "#obtain new month names\n",
    "list(df.month.unique)"
   ]
  }
 ],
 "metadata": {
  "kernelspec": {
   "display_name": "Python 3",
   "language": "python",
   "name": "python3"
  },
  "language_info": {
   "codemirror_mode": {
    "name": "ipython",
    "version": 3
   },
   "file_extension": ".py",
   "mimetype": "text/x-python",
   "name": "python",
   "nbconvert_exporter": "python",
   "pygments_lexer": "ipython3",
   "version": "3.7.6"
  }
 },
 "nbformat": 4,
 "nbformat_minor": 4
}
