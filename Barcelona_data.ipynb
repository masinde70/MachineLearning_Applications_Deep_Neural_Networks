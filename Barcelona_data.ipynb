{
 "cells": [
  {
   "cell_type": "code",
   "execution_count": 1,
   "metadata": {},
   "outputs": [
    {
     "data": {
      "text/html": [
       "<div>\n",
       "<style scoped>\n",
       "    .dataframe tbody tr th:only-of-type {\n",
       "        vertical-align: middle;\n",
       "    }\n",
       "\n",
       "    .dataframe tbody tr th {\n",
       "        vertical-align: top;\n",
       "    }\n",
       "\n",
       "    .dataframe thead th {\n",
       "        text-align: right;\n",
       "    }\n",
       "</style>\n",
       "<table border=\"1\" class=\"dataframe\">\n",
       "  <thead>\n",
       "    <tr style=\"text-align: right;\">\n",
       "      <th></th>\n",
       "      <th>Id</th>\n",
       "      <th>District Name</th>\n",
       "      <th>Neighborhood Name</th>\n",
       "      <th>Street</th>\n",
       "      <th>Weekday</th>\n",
       "      <th>Month</th>\n",
       "      <th>Day</th>\n",
       "      <th>Hour</th>\n",
       "      <th>Part of the day</th>\n",
       "      <th>Mild injuries</th>\n",
       "      <th>Serious injuries</th>\n",
       "      <th>Victims</th>\n",
       "      <th>Vehicles involved</th>\n",
       "      <th>Longitude</th>\n",
       "      <th>Latitude</th>\n",
       "    </tr>\n",
       "  </thead>\n",
       "  <tbody>\n",
       "    <tr>\n",
       "      <th>0</th>\n",
       "      <td>2017S008429</td>\n",
       "      <td>Unknown</td>\n",
       "      <td>Unknown</td>\n",
       "      <td>Número 27                                     ...</td>\n",
       "      <td>Friday</td>\n",
       "      <td>October</td>\n",
       "      <td>13</td>\n",
       "      <td>8</td>\n",
       "      <td>Morning</td>\n",
       "      <td>2</td>\n",
       "      <td>0</td>\n",
       "      <td>2</td>\n",
       "      <td>2</td>\n",
       "      <td>2.125624</td>\n",
       "      <td>41.340045</td>\n",
       "    </tr>\n",
       "    <tr>\n",
       "      <th>1</th>\n",
       "      <td>2017S007316</td>\n",
       "      <td>Unknown</td>\n",
       "      <td>Unknown</td>\n",
       "      <td>Número 3 Zona Franca / Número 50 Zona Franca  ...</td>\n",
       "      <td>Friday</td>\n",
       "      <td>September</td>\n",
       "      <td>1</td>\n",
       "      <td>13</td>\n",
       "      <td>Morning</td>\n",
       "      <td>2</td>\n",
       "      <td>0</td>\n",
       "      <td>2</td>\n",
       "      <td>2</td>\n",
       "      <td>2.120452</td>\n",
       "      <td>41.339426</td>\n",
       "    </tr>\n",
       "    <tr>\n",
       "      <th>2</th>\n",
       "      <td>2017S010210</td>\n",
       "      <td>Unknown</td>\n",
       "      <td>Unknown</td>\n",
       "      <td>Litoral (Besòs)                               ...</td>\n",
       "      <td>Friday</td>\n",
       "      <td>December</td>\n",
       "      <td>8</td>\n",
       "      <td>21</td>\n",
       "      <td>Afternoon</td>\n",
       "      <td>5</td>\n",
       "      <td>0</td>\n",
       "      <td>5</td>\n",
       "      <td>2</td>\n",
       "      <td>2.167356</td>\n",
       "      <td>41.360885</td>\n",
       "    </tr>\n",
       "    <tr>\n",
       "      <th>3</th>\n",
       "      <td>2017S006364</td>\n",
       "      <td>Unknown</td>\n",
       "      <td>Unknown</td>\n",
       "      <td>Número 3 Zona Franca                          ...</td>\n",
       "      <td>Friday</td>\n",
       "      <td>July</td>\n",
       "      <td>21</td>\n",
       "      <td>2</td>\n",
       "      <td>Night</td>\n",
       "      <td>1</td>\n",
       "      <td>0</td>\n",
       "      <td>1</td>\n",
       "      <td>2</td>\n",
       "      <td>2.124529</td>\n",
       "      <td>41.337668</td>\n",
       "    </tr>\n",
       "    <tr>\n",
       "      <th>4</th>\n",
       "      <td>2017S004615</td>\n",
       "      <td>Sant Martí</td>\n",
       "      <td>el Camp de l'Arpa del Clot</td>\n",
       "      <td>Las Navas de Tolosa                           ...</td>\n",
       "      <td>Thursday</td>\n",
       "      <td>May</td>\n",
       "      <td>25</td>\n",
       "      <td>14</td>\n",
       "      <td>Afternoon</td>\n",
       "      <td>1</td>\n",
       "      <td>0</td>\n",
       "      <td>1</td>\n",
       "      <td>3</td>\n",
       "      <td>2.185272</td>\n",
       "      <td>41.416365</td>\n",
       "    </tr>\n",
       "  </tbody>\n",
       "</table>\n",
       "</div>"
      ],
      "text/plain": [
       "                Id District Name           Neighborhood Name  \\\n",
       "0  2017S008429           Unknown                     Unknown   \n",
       "1  2017S007316           Unknown                     Unknown   \n",
       "2  2017S010210           Unknown                     Unknown   \n",
       "3  2017S006364           Unknown                     Unknown   \n",
       "4  2017S004615        Sant Martí  el Camp de l'Arpa del Clot   \n",
       "\n",
       "                                              Street   Weekday      Month  \\\n",
       "0  Número 27                                     ...    Friday    October   \n",
       "1  Número 3 Zona Franca / Número 50 Zona Franca  ...    Friday  September   \n",
       "2  Litoral (Besòs)                               ...    Friday   December   \n",
       "3  Número 3 Zona Franca                          ...    Friday       July   \n",
       "4  Las Navas de Tolosa                           ...  Thursday        May   \n",
       "\n",
       "   Day  Hour Part of the day  Mild injuries  Serious injuries  Victims  \\\n",
       "0   13     8         Morning              2                 0        2   \n",
       "1    1    13         Morning              2                 0        2   \n",
       "2    8    21       Afternoon              5                 0        5   \n",
       "3   21     2           Night              1                 0        1   \n",
       "4   25    14       Afternoon              1                 0        1   \n",
       "\n",
       "   Vehicles involved  Longitude   Latitude  \n",
       "0                  2   2.125624  41.340045  \n",
       "1                  2   2.120452  41.339426  \n",
       "2                  2   2.167356  41.360885  \n",
       "3                  2   2.124529  41.337668  \n",
       "4                  3   2.185272  41.416365  "
      ]
     },
     "execution_count": 1,
     "metadata": {},
     "output_type": "execute_result"
    }
   ],
   "source": [
    "import pandas as pd\n",
    "\n",
    "df = pd.read_csv('accidents_2017.csv')\n",
    "df.head()"
   ]
  },
  {
   "cell_type": "code",
   "execution_count": 2,
   "metadata": {},
   "outputs": [
    {
     "data": {
      "text/plain": [
       "Index(['Id', 'District Name', 'Neighborhood Name', 'Street', 'Weekday',\n",
       "       'Month', 'Day', 'Hour', 'Part of the day', 'Mild injuries',\n",
       "       'Serious injuries', 'Victims', 'Vehicles involved', 'Longitude',\n",
       "       'Latitude'],\n",
       "      dtype='object')"
      ]
     },
     "execution_count": 2,
     "metadata": {},
     "output_type": "execute_result"
    }
   ],
   "source": [
    "df.columns"
   ]
  },
  {
   "cell_type": "code",
   "execution_count": 3,
   "metadata": {},
   "outputs": [
    {
     "name": "stdout",
     "output_type": "stream",
     "text": [
      "<class 'pandas.core.frame.DataFrame'>\n",
      "RangeIndex: 10339 entries, 0 to 10338\n",
      "Data columns (total 15 columns):\n",
      " #   Column             Non-Null Count  Dtype  \n",
      "---  ------             --------------  -----  \n",
      " 0   Id                 10339 non-null  object \n",
      " 1   District Name      10339 non-null  object \n",
      " 2   Neighborhood Name  10339 non-null  object \n",
      " 3   Street             10339 non-null  object \n",
      " 4   Weekday            10339 non-null  object \n",
      " 5   Month              10339 non-null  object \n",
      " 6   Day                10339 non-null  int64  \n",
      " 7   Hour               10339 non-null  int64  \n",
      " 8   Part of the day    10339 non-null  object \n",
      " 9   Mild injuries      10339 non-null  int64  \n",
      " 10  Serious injuries   10339 non-null  int64  \n",
      " 11  Victims            10339 non-null  int64  \n",
      " 12  Vehicles involved  10339 non-null  int64  \n",
      " 13  Longitude          10339 non-null  float64\n",
      " 14  Latitude           10339 non-null  float64\n",
      "dtypes: float64(2), int64(6), object(7)\n",
      "memory usage: 1.2+ MB\n"
     ]
    }
   ],
   "source": [
    "# List of columns names\n",
    "\n",
    "df.info()"
   ]
  },
  {
   "cell_type": "code",
   "execution_count": 4,
   "metadata": {},
   "outputs": [
    {
     "name": "stdout",
     "output_type": "stream",
     "text": [
      "<class 'pandas.core.frame.DataFrame'>\n",
      "RangeIndex: 10339 entries, 0 to 10338\n",
      "Data columns (total 15 columns):\n",
      " #   Column             Non-Null Count  Dtype  \n",
      "---  ------             --------------  -----  \n",
      " 0   Id                 10339 non-null  object \n",
      " 1   District Name      10312 non-null  object \n",
      " 2   Neighborhood Name  10312 non-null  object \n",
      " 3   Street             10339 non-null  object \n",
      " 4   Weekday            10339 non-null  object \n",
      " 5   Month              10339 non-null  object \n",
      " 6   Day                10339 non-null  int64  \n",
      " 7   Hour               10339 non-null  int64  \n",
      " 8   Part of the day    10339 non-null  object \n",
      " 9   Mild injuries      10339 non-null  int64  \n",
      " 10  Serious injuries   10339 non-null  int64  \n",
      " 11  Victims            10339 non-null  int64  \n",
      " 12  Vehicles involved  10339 non-null  int64  \n",
      " 13  Longitude          10339 non-null  float64\n",
      " 14  Latitude           10339 non-null  float64\n",
      "dtypes: float64(2), int64(6), object(7)\n",
      "memory usage: 1.2+ MB\n"
     ]
    }
   ],
   "source": [
    "import numpy as np\n",
    "\n",
    "# Apparently, there are not null values\n",
    "\n",
    "df.isnull().sum().any()\n",
    "\n",
    "# False meaning there are not null values\n",
    "\n",
    "# replace Unknown with n.a\n",
    "\n",
    "df.replace('Unknown', np.nan, inplace=True)\n",
    "\n",
    "# Now, there are null values\n",
    "df.isnull().sum().any()\n",
    "\n",
    "#True\n",
    "\n",
    "#Access number of null values using the .info() method\n",
    "df.info()"
   ]
  },
  {
   "cell_type": "markdown",
   "metadata": {},
   "source": [
    "## We can analyze where accident happened using the longitude and Latitude\n"
   ]
  },
  {
   "cell_type": "markdown",
   "metadata": {},
   "source": [
    "### Before we start to draw conclusions using our data, we are going to clean it. The first cleaning step consists of droping unnessary columns to simplify the data frame"
   ]
  },
  {
   "cell_type": "markdown",
   "metadata": {},
   "source": [
    "## Data cleaning"
   ]
  },
  {
   "cell_type": "code",
   "execution_count": 5,
   "metadata": {},
   "outputs": [
    {
     "data": {
      "text/plain": [
       "Index(['Id', 'Street', 'Weekday', 'Month', 'Day', 'Hour', 'Mild injuries',\n",
       "       'Serious injuries', 'Victims', 'Vehicles involved', 'Longitude',\n",
       "       'Latitude'],\n",
       "      dtype='object')"
      ]
     },
     "execution_count": 5,
     "metadata": {},
     "output_type": "execute_result"
    }
   ],
   "source": [
    "# Drop unnecessary columns\n",
    "df.drop(['District Name', 'Neighborhood Name', 'Part of the day',], axis=1, inplace=True)\n",
    "\n",
    "#columns after dropping\n",
    "df.columns"
   ]
  },
  {
   "cell_type": "markdown",
   "metadata": {},
   "source": [
    "#### Change columns names. replace spaces by underscore and upper case letters."
   ]
  },
  {
   "cell_type": "code",
   "execution_count": 6,
   "metadata": {},
   "outputs": [
    {
     "data": {
      "text/plain": [
       "Index(['id', 'street', 'weekday', 'month', 'day', 'hour', 'mild_injuries',\n",
       "       'serious_injuries', 'victims', 'vehicles_involved', 'longitude',\n",
       "       'latitude'],\n",
       "      dtype='object')"
      ]
     },
     "execution_count": 6,
     "metadata": {},
     "output_type": "execute_result"
    }
   ],
   "source": [
    "df.rename(columns=lambda x:x.replace(' ','_').lower(), inplace=True)\n",
    "df.columns"
   ]
  },
  {
   "cell_type": "markdown",
   "metadata": {},
   "source": [
    "\n",
    "#### Add a column with the year in this case 2017\n"
   ]
  },
  {
   "cell_type": "code",
   "execution_count": 7,
   "metadata": {},
   "outputs": [
    {
     "data": {
      "text/html": [
       "<div>\n",
       "<style scoped>\n",
       "    .dataframe tbody tr th:only-of-type {\n",
       "        vertical-align: middle;\n",
       "    }\n",
       "\n",
       "    .dataframe tbody tr th {\n",
       "        vertical-align: top;\n",
       "    }\n",
       "\n",
       "    .dataframe thead th {\n",
       "        text-align: right;\n",
       "    }\n",
       "</style>\n",
       "<table border=\"1\" class=\"dataframe\">\n",
       "  <thead>\n",
       "    <tr style=\"text-align: right;\">\n",
       "      <th></th>\n",
       "      <th>id</th>\n",
       "      <th>street</th>\n",
       "      <th>weekday</th>\n",
       "      <th>month</th>\n",
       "      <th>day</th>\n",
       "      <th>hour</th>\n",
       "      <th>mild_injuries</th>\n",
       "      <th>serious_injuries</th>\n",
       "      <th>victims</th>\n",
       "      <th>vehicles_involved</th>\n",
       "      <th>longitude</th>\n",
       "      <th>latitude</th>\n",
       "      <th>year</th>\n",
       "    </tr>\n",
       "  </thead>\n",
       "  <tbody>\n",
       "    <tr>\n",
       "      <th>0</th>\n",
       "      <td>2017S008429</td>\n",
       "      <td>Número 27                                     ...</td>\n",
       "      <td>Friday</td>\n",
       "      <td>October</td>\n",
       "      <td>13</td>\n",
       "      <td>8</td>\n",
       "      <td>2</td>\n",
       "      <td>0</td>\n",
       "      <td>2</td>\n",
       "      <td>2</td>\n",
       "      <td>2.125624</td>\n",
       "      <td>41.340045</td>\n",
       "      <td>2017</td>\n",
       "    </tr>\n",
       "    <tr>\n",
       "      <th>1</th>\n",
       "      <td>2017S007316</td>\n",
       "      <td>Número 3 Zona Franca / Número 50 Zona Franca  ...</td>\n",
       "      <td>Friday</td>\n",
       "      <td>September</td>\n",
       "      <td>1</td>\n",
       "      <td>13</td>\n",
       "      <td>2</td>\n",
       "      <td>0</td>\n",
       "      <td>2</td>\n",
       "      <td>2</td>\n",
       "      <td>2.120452</td>\n",
       "      <td>41.339426</td>\n",
       "      <td>2017</td>\n",
       "    </tr>\n",
       "    <tr>\n",
       "      <th>2</th>\n",
       "      <td>2017S010210</td>\n",
       "      <td>Litoral (Besòs)                               ...</td>\n",
       "      <td>Friday</td>\n",
       "      <td>December</td>\n",
       "      <td>8</td>\n",
       "      <td>21</td>\n",
       "      <td>5</td>\n",
       "      <td>0</td>\n",
       "      <td>5</td>\n",
       "      <td>2</td>\n",
       "      <td>2.167356</td>\n",
       "      <td>41.360885</td>\n",
       "      <td>2017</td>\n",
       "    </tr>\n",
       "    <tr>\n",
       "      <th>3</th>\n",
       "      <td>2017S006364</td>\n",
       "      <td>Número 3 Zona Franca                          ...</td>\n",
       "      <td>Friday</td>\n",
       "      <td>July</td>\n",
       "      <td>21</td>\n",
       "      <td>2</td>\n",
       "      <td>1</td>\n",
       "      <td>0</td>\n",
       "      <td>1</td>\n",
       "      <td>2</td>\n",
       "      <td>2.124529</td>\n",
       "      <td>41.337668</td>\n",
       "      <td>2017</td>\n",
       "    </tr>\n",
       "    <tr>\n",
       "      <th>4</th>\n",
       "      <td>2017S004615</td>\n",
       "      <td>Las Navas de Tolosa                           ...</td>\n",
       "      <td>Thursday</td>\n",
       "      <td>May</td>\n",
       "      <td>25</td>\n",
       "      <td>14</td>\n",
       "      <td>1</td>\n",
       "      <td>0</td>\n",
       "      <td>1</td>\n",
       "      <td>3</td>\n",
       "      <td>2.185272</td>\n",
       "      <td>41.416365</td>\n",
       "      <td>2017</td>\n",
       "    </tr>\n",
       "  </tbody>\n",
       "</table>\n",
       "</div>"
      ],
      "text/plain": [
       "                id                                             street  \\\n",
       "0  2017S008429      Número 27                                     ...   \n",
       "1  2017S007316      Número 3 Zona Franca / Número 50 Zona Franca  ...   \n",
       "2  2017S010210      Litoral (Besòs)                               ...   \n",
       "3  2017S006364      Número 3 Zona Franca                          ...   \n",
       "4  2017S004615      Las Navas de Tolosa                           ...   \n",
       "\n",
       "    weekday      month  day  hour  mild_injuries  serious_injuries  victims  \\\n",
       "0    Friday    October   13     8              2                 0        2   \n",
       "1    Friday  September    1    13              2                 0        2   \n",
       "2    Friday   December    8    21              5                 0        5   \n",
       "3    Friday       July   21     2              1                 0        1   \n",
       "4  Thursday        May   25    14              1                 0        1   \n",
       "\n",
       "   vehicles_involved  longitude   latitude  year  \n",
       "0                  2   2.125624  41.340045  2017  \n",
       "1                  2   2.120452  41.339426  2017  \n",
       "2                  2   2.167356  41.360885  2017  \n",
       "3                  2   2.124529  41.337668  2017  \n",
       "4                  3   2.185272  41.416365  2017  "
      ]
     },
     "execution_count": 7,
     "metadata": {},
     "output_type": "execute_result"
    }
   ],
   "source": [
    "df['year']=np.repeat(2017, df.shape[0])\n",
    "df.head()"
   ]
  },
  {
   "cell_type": "markdown",
   "metadata": {},
   "source": [
    "##### we can combine weekday, month, day, hour, and year into one single column called date.\n",
    "                And to avoid a ValueError, we have to convert month names into integers before using the pandas.to datetime function\n"
   ]
  },
  {
   "cell_type": "code",
   "execution_count": 8,
   "metadata": {},
   "outputs": [
    {
     "data": {
      "text/plain": [
       "[10, 9, 12, 7, 5, 6, 1, 4, 3, 11, 2, 8]"
      ]
     },
     "execution_count": 8,
     "metadata": {},
     "output_type": "execute_result"
    }
   ],
   "source": [
    "# Obtain month names\n",
    "list(df.month.unique())\n",
    "\n",
    "#Month names to int\n",
    "month_to_int = {'January':1, 'February':2, 'March':3, 'April':4, 'May':5, 'June':6, 'July':7, 'August':8, 'September':9, 'October':10, 'November':11, 'December':12}\n",
    "\n",
    "#convert month names to numbers\n",
    "df['month'].replace(month_to_int, inplace=True)\n",
    "\n",
    "#obtain new month names\n",
    "list(df.month.unique())"
   ]
  },
  {
   "cell_type": "markdown",
   "metadata": {},
   "source": [
    "### Combine columns month day and year to create a single datetime column\n"
   ]
  },
  {
   "cell_type": "code",
   "execution_count": 9,
   "metadata": {},
   "outputs": [
    {
     "data": {
      "text/html": [
       "<div>\n",
       "<style scoped>\n",
       "    .dataframe tbody tr th:only-of-type {\n",
       "        vertical-align: middle;\n",
       "    }\n",
       "\n",
       "    .dataframe tbody tr th {\n",
       "        vertical-align: top;\n",
       "    }\n",
       "\n",
       "    .dataframe thead th {\n",
       "        text-align: right;\n",
       "    }\n",
       "</style>\n",
       "<table border=\"1\" class=\"dataframe\">\n",
       "  <thead>\n",
       "    <tr style=\"text-align: right;\">\n",
       "      <th></th>\n",
       "      <th>id</th>\n",
       "      <th>street</th>\n",
       "      <th>weekday</th>\n",
       "      <th>month</th>\n",
       "      <th>day</th>\n",
       "      <th>hour</th>\n",
       "      <th>mild_injuries</th>\n",
       "      <th>serious_injuries</th>\n",
       "      <th>victims</th>\n",
       "      <th>vehicles_involved</th>\n",
       "      <th>longitude</th>\n",
       "      <th>latitude</th>\n",
       "      <th>year</th>\n",
       "      <th>date</th>\n",
       "    </tr>\n",
       "  </thead>\n",
       "  <tbody>\n",
       "    <tr>\n",
       "      <th>0</th>\n",
       "      <td>2017S008429</td>\n",
       "      <td>Número 27                                     ...</td>\n",
       "      <td>Friday</td>\n",
       "      <td>10</td>\n",
       "      <td>13</td>\n",
       "      <td>8</td>\n",
       "      <td>2</td>\n",
       "      <td>0</td>\n",
       "      <td>2</td>\n",
       "      <td>2</td>\n",
       "      <td>2.125624</td>\n",
       "      <td>41.340045</td>\n",
       "      <td>2017</td>\n",
       "      <td>2017-10-13 08:00:00</td>\n",
       "    </tr>\n",
       "    <tr>\n",
       "      <th>1</th>\n",
       "      <td>2017S007316</td>\n",
       "      <td>Número 3 Zona Franca / Número 50 Zona Franca  ...</td>\n",
       "      <td>Friday</td>\n",
       "      <td>9</td>\n",
       "      <td>1</td>\n",
       "      <td>13</td>\n",
       "      <td>2</td>\n",
       "      <td>0</td>\n",
       "      <td>2</td>\n",
       "      <td>2</td>\n",
       "      <td>2.120452</td>\n",
       "      <td>41.339426</td>\n",
       "      <td>2017</td>\n",
       "      <td>2017-09-01 13:00:00</td>\n",
       "    </tr>\n",
       "    <tr>\n",
       "      <th>2</th>\n",
       "      <td>2017S010210</td>\n",
       "      <td>Litoral (Besòs)                               ...</td>\n",
       "      <td>Friday</td>\n",
       "      <td>12</td>\n",
       "      <td>8</td>\n",
       "      <td>21</td>\n",
       "      <td>5</td>\n",
       "      <td>0</td>\n",
       "      <td>5</td>\n",
       "      <td>2</td>\n",
       "      <td>2.167356</td>\n",
       "      <td>41.360885</td>\n",
       "      <td>2017</td>\n",
       "      <td>2017-12-08 21:00:00</td>\n",
       "    </tr>\n",
       "    <tr>\n",
       "      <th>3</th>\n",
       "      <td>2017S006364</td>\n",
       "      <td>Número 3 Zona Franca                          ...</td>\n",
       "      <td>Friday</td>\n",
       "      <td>7</td>\n",
       "      <td>21</td>\n",
       "      <td>2</td>\n",
       "      <td>1</td>\n",
       "      <td>0</td>\n",
       "      <td>1</td>\n",
       "      <td>2</td>\n",
       "      <td>2.124529</td>\n",
       "      <td>41.337668</td>\n",
       "      <td>2017</td>\n",
       "      <td>2017-07-21 02:00:00</td>\n",
       "    </tr>\n",
       "    <tr>\n",
       "      <th>4</th>\n",
       "      <td>2017S004615</td>\n",
       "      <td>Las Navas de Tolosa                           ...</td>\n",
       "      <td>Thursday</td>\n",
       "      <td>5</td>\n",
       "      <td>25</td>\n",
       "      <td>14</td>\n",
       "      <td>1</td>\n",
       "      <td>0</td>\n",
       "      <td>1</td>\n",
       "      <td>3</td>\n",
       "      <td>2.185272</td>\n",
       "      <td>41.416365</td>\n",
       "      <td>2017</td>\n",
       "      <td>2017-05-25 14:00:00</td>\n",
       "    </tr>\n",
       "  </tbody>\n",
       "</table>\n",
       "</div>"
      ],
      "text/plain": [
       "                id                                             street  \\\n",
       "0  2017S008429      Número 27                                     ...   \n",
       "1  2017S007316      Número 3 Zona Franca / Número 50 Zona Franca  ...   \n",
       "2  2017S010210      Litoral (Besòs)                               ...   \n",
       "3  2017S006364      Número 3 Zona Franca                          ...   \n",
       "4  2017S004615      Las Navas de Tolosa                           ...   \n",
       "\n",
       "    weekday  month  day  hour  mild_injuries  serious_injuries  victims  \\\n",
       "0    Friday     10   13     8              2                 0        2   \n",
       "1    Friday      9    1    13              2                 0        2   \n",
       "2    Friday     12    8    21              5                 0        5   \n",
       "3    Friday      7   21     2              1                 0        1   \n",
       "4  Thursday      5   25    14              1                 0        1   \n",
       "\n",
       "   vehicles_involved  longitude   latitude  year                date  \n",
       "0                  2   2.125624  41.340045  2017 2017-10-13 08:00:00  \n",
       "1                  2   2.120452  41.339426  2017 2017-09-01 13:00:00  \n",
       "2                  2   2.167356  41.360885  2017 2017-12-08 21:00:00  \n",
       "3                  2   2.124529  41.337668  2017 2017-07-21 02:00:00  \n",
       "4                  3   2.185272  41.416365  2017 2017-05-25 14:00:00  "
      ]
     },
     "execution_count": 9,
     "metadata": {},
     "output_type": "execute_result"
    }
   ],
   "source": [
    "df['date']=pd.to_datetime(df[['year', 'month', 'day', 'hour']])\n",
    "df.head()"
   ]
  },
  {
   "cell_type": "markdown",
   "metadata": {},
   "source": [
    "## Since we can access all the information we need related to the date of the accident"
   ]
  },
  {
   "cell_type": "code",
   "execution_count": 11,
   "metadata": {},
   "outputs": [
    {
     "data": {
      "text/plain": [
       "0    4\n",
       "1    4\n",
       "2    4\n",
       "3    4\n",
       "4    3\n",
       "Name: date, dtype: int64"
      ]
     },
     "execution_count": 11,
     "metadata": {},
     "output_type": "execute_result"
    }
   ],
   "source": [
    "# Extract the year\n",
    "df['date'].dt.year\n",
    "\n",
    "# Extract the month\n",
    "df['date'].dt.month\n",
    "\n",
    "# Extract the day\n",
    "df['date'].dt.day\n",
    "\n",
    "# Extract the hour\n",
    "df['date'].dt.hour\n",
    "\n",
    "# Extract the day of the week\n",
    "df['date'].dt.dayofweek\n",
    "\n",
    "# Day of the week - first five elements of the returned serie.\n",
    "df['date'].dt.dayofweek.head()"
   ]
  },
  {
   "cell_type": "markdown",
   "metadata": {},
   "source": [
    "## Then we can drop columns month, year, day and day of the week"
   ]
  },
  {
   "cell_type": "code",
   "execution_count": 12,
   "metadata": {},
   "outputs": [],
   "source": [
    "#Drop columns hour, day, month, year, weekday\n",
    "\n",
    "df.drop(['hour', 'day', 'month', 'year', 'weekday'], axis=1, inplace=True)\n"
   ]
  },
  {
   "cell_type": "markdown",
   "metadata": {},
   "source": [
    "### Finally we can drop the street column as well since we are going to visualize where the accidents happened using longitude and latitude"
   ]
  },
  {
   "cell_type": "code",
   "execution_count": 13,
   "metadata": {},
   "outputs": [],
   "source": [
    "df.drop(['street'], axis=1, inplace=True)"
   ]
  },
  {
   "cell_type": "code",
   "execution_count": 14,
   "metadata": {},
   "outputs": [
    {
     "data": {
      "text/html": [
       "<div>\n",
       "<style scoped>\n",
       "    .dataframe tbody tr th:only-of-type {\n",
       "        vertical-align: middle;\n",
       "    }\n",
       "\n",
       "    .dataframe tbody tr th {\n",
       "        vertical-align: top;\n",
       "    }\n",
       "\n",
       "    .dataframe thead th {\n",
       "        text-align: right;\n",
       "    }\n",
       "</style>\n",
       "<table border=\"1\" class=\"dataframe\">\n",
       "  <thead>\n",
       "    <tr style=\"text-align: right;\">\n",
       "      <th></th>\n",
       "      <th>id</th>\n",
       "      <th>mild_injuries</th>\n",
       "      <th>serious_injuries</th>\n",
       "      <th>victims</th>\n",
       "      <th>vehicles_involved</th>\n",
       "      <th>longitude</th>\n",
       "      <th>latitude</th>\n",
       "      <th>date</th>\n",
       "    </tr>\n",
       "  </thead>\n",
       "  <tbody>\n",
       "    <tr>\n",
       "      <th>0</th>\n",
       "      <td>2017S008429</td>\n",
       "      <td>2</td>\n",
       "      <td>0</td>\n",
       "      <td>2</td>\n",
       "      <td>2</td>\n",
       "      <td>2.125624</td>\n",
       "      <td>41.340045</td>\n",
       "      <td>2017-10-13 08:00:00</td>\n",
       "    </tr>\n",
       "    <tr>\n",
       "      <th>1</th>\n",
       "      <td>2017S007316</td>\n",
       "      <td>2</td>\n",
       "      <td>0</td>\n",
       "      <td>2</td>\n",
       "      <td>2</td>\n",
       "      <td>2.120452</td>\n",
       "      <td>41.339426</td>\n",
       "      <td>2017-09-01 13:00:00</td>\n",
       "    </tr>\n",
       "    <tr>\n",
       "      <th>2</th>\n",
       "      <td>2017S010210</td>\n",
       "      <td>5</td>\n",
       "      <td>0</td>\n",
       "      <td>5</td>\n",
       "      <td>2</td>\n",
       "      <td>2.167356</td>\n",
       "      <td>41.360885</td>\n",
       "      <td>2017-12-08 21:00:00</td>\n",
       "    </tr>\n",
       "    <tr>\n",
       "      <th>3</th>\n",
       "      <td>2017S006364</td>\n",
       "      <td>1</td>\n",
       "      <td>0</td>\n",
       "      <td>1</td>\n",
       "      <td>2</td>\n",
       "      <td>2.124529</td>\n",
       "      <td>41.337668</td>\n",
       "      <td>2017-07-21 02:00:00</td>\n",
       "    </tr>\n",
       "    <tr>\n",
       "      <th>4</th>\n",
       "      <td>2017S004615</td>\n",
       "      <td>1</td>\n",
       "      <td>0</td>\n",
       "      <td>1</td>\n",
       "      <td>3</td>\n",
       "      <td>2.185272</td>\n",
       "      <td>41.416365</td>\n",
       "      <td>2017-05-25 14:00:00</td>\n",
       "    </tr>\n",
       "  </tbody>\n",
       "</table>\n",
       "</div>"
      ],
      "text/plain": [
       "                id  mild_injuries  serious_injuries  victims  \\\n",
       "0  2017S008429                  2                 0        2   \n",
       "1  2017S007316                  2                 0        2   \n",
       "2  2017S010210                  5                 0        5   \n",
       "3  2017S006364                  1                 0        1   \n",
       "4  2017S004615                  1                 0        1   \n",
       "\n",
       "   vehicles_involved  longitude   latitude                date  \n",
       "0                  2   2.125624  41.340045 2017-10-13 08:00:00  \n",
       "1                  2   2.120452  41.339426 2017-09-01 13:00:00  \n",
       "2                  2   2.167356  41.360885 2017-12-08 21:00:00  \n",
       "3                  2   2.124529  41.337668 2017-07-21 02:00:00  \n",
       "4                  3   2.185272  41.416365 2017-05-25 14:00:00  "
      ]
     },
     "execution_count": 14,
     "metadata": {},
     "output_type": "execute_result"
    }
   ],
   "source": [
    "df.head()"
   ]
  },
  {
   "cell_type": "markdown",
   "metadata": {},
   "source": [
    "## To easly access information about car accident, we are going to set aside id as the index of the data frame, removing before the trailing spaces in id entries"
   ]
  },
  {
   "cell_type": "code",
   "execution_count": 19,
   "metadata": {},
   "outputs": [
    {
     "data": {
      "text/plain": [
       "mild_injuries                          2\n",
       "serious_injuries                       0\n",
       "victims                                2\n",
       "vehicles_involved                      2\n",
       "longitude                        2.12562\n",
       "latitude                           41.34\n",
       "date                 2017-10-13 08:00:00\n",
       "Name: 2017S008429, dtype: object"
      ]
     },
     "execution_count": 19,
     "metadata": {},
     "output_type": "execute_result"
    }
   ],
   "source": [
    "# We have noticed that id has spaces at the end of the string\n",
    "df.id.loc[0]\n",
    "# '2017S008429    '\n",
    "\n",
    "# We remove the spaces in the entries of id\n",
    "df.id = df.id.apply(lambda x: x.strip())\n",
    "\n",
    "#We have removed the spaces successfully\n",
    "df.id.loc[0]\n",
    "#'2017S008429'\n",
    "\n",
    "# we can set id index as the index of the dataframe\n",
    "df.set_index('id', inplace=True)\n",
    "\n",
    "# now we can easly access information about an accident using its id.\n",
    "df.loc['2017S008429']"
   ]
  },
  {
   "cell_type": "markdown",
   "metadata": {},
   "source": [
    "## The final step of data cleaning step consists of evaluating whether there are duplicated entries in the data frame. If so we will remove these duplicates as they represent same car accident"
   ]
  },
  {
   "cell_type": "code",
   "execution_count": 22,
   "metadata": {},
   "outputs": [
    {
     "data": {
      "text/html": [
       "<div>\n",
       "<style scoped>\n",
       "    .dataframe tbody tr th:only-of-type {\n",
       "        vertical-align: middle;\n",
       "    }\n",
       "\n",
       "    .dataframe tbody tr th {\n",
       "        vertical-align: top;\n",
       "    }\n",
       "\n",
       "    .dataframe thead th {\n",
       "        text-align: right;\n",
       "    }\n",
       "</style>\n",
       "<table border=\"1\" class=\"dataframe\">\n",
       "  <thead>\n",
       "    <tr style=\"text-align: right;\">\n",
       "      <th></th>\n",
       "      <th>mild_injuries</th>\n",
       "      <th>serious_injuries</th>\n",
       "      <th>victims</th>\n",
       "      <th>vehicles_involved</th>\n",
       "      <th>longitude</th>\n",
       "      <th>latitude</th>\n",
       "      <th>date</th>\n",
       "    </tr>\n",
       "    <tr>\n",
       "      <th>id</th>\n",
       "      <th></th>\n",
       "      <th></th>\n",
       "      <th></th>\n",
       "      <th></th>\n",
       "      <th></th>\n",
       "      <th></th>\n",
       "      <th></th>\n",
       "    </tr>\n",
       "  </thead>\n",
       "  <tbody>\n",
       "    <tr>\n",
       "      <th>2017S006811</th>\n",
       "      <td>1</td>\n",
       "      <td>0</td>\n",
       "      <td>1</td>\n",
       "      <td>2</td>\n",
       "      <td>2.147915</td>\n",
       "      <td>41.393601</td>\n",
       "      <td>2017-08-07 10:00:00</td>\n",
       "    </tr>\n",
       "    <tr>\n",
       "      <th>2017S003575</th>\n",
       "      <td>1</td>\n",
       "      <td>0</td>\n",
       "      <td>1</td>\n",
       "      <td>2</td>\n",
       "      <td>2.194670</td>\n",
       "      <td>41.412827</td>\n",
       "      <td>2017-04-21 10:00:00</td>\n",
       "    </tr>\n",
       "    <tr>\n",
       "      <th>2017S003286</th>\n",
       "      <td>1</td>\n",
       "      <td>0</td>\n",
       "      <td>1</td>\n",
       "      <td>1</td>\n",
       "      <td>2.136744</td>\n",
       "      <td>41.357598</td>\n",
       "      <td>2017-04-10 13:00:00</td>\n",
       "    </tr>\n",
       "    <tr>\n",
       "      <th>2017S008856</th>\n",
       "      <td>1</td>\n",
       "      <td>0</td>\n",
       "      <td>1</td>\n",
       "      <td>1</td>\n",
       "      <td>2.203962</td>\n",
       "      <td>41.407568</td>\n",
       "      <td>2017-10-26 08:00:00</td>\n",
       "    </tr>\n",
       "    <tr>\n",
       "      <th>2017S003750</th>\n",
       "      <td>1</td>\n",
       "      <td>0</td>\n",
       "      <td>1</td>\n",
       "      <td>1</td>\n",
       "      <td>2.168836</td>\n",
       "      <td>41.386306</td>\n",
       "      <td>2017-04-27 16:00:00</td>\n",
       "    </tr>\n",
       "    <tr>\n",
       "      <th>2017S001504</th>\n",
       "      <td>1</td>\n",
       "      <td>0</td>\n",
       "      <td>1</td>\n",
       "      <td>2</td>\n",
       "      <td>2.139400</td>\n",
       "      <td>41.418656</td>\n",
       "      <td>2017-02-23 14:00:00</td>\n",
       "    </tr>\n",
       "    <tr>\n",
       "      <th>2017S004447</th>\n",
       "      <td>1</td>\n",
       "      <td>0</td>\n",
       "      <td>1</td>\n",
       "      <td>1</td>\n",
       "      <td>2.209813</td>\n",
       "      <td>41.402218</td>\n",
       "      <td>2017-05-19 20:00:00</td>\n",
       "    </tr>\n",
       "    <tr>\n",
       "      <th>2017S005606</th>\n",
       "      <td>1</td>\n",
       "      <td>0</td>\n",
       "      <td>1</td>\n",
       "      <td>3</td>\n",
       "      <td>2.189016</td>\n",
       "      <td>41.383396</td>\n",
       "      <td>2017-06-27 17:00:00</td>\n",
       "    </tr>\n",
       "    <tr>\n",
       "      <th>2017S003201</th>\n",
       "      <td>1</td>\n",
       "      <td>0</td>\n",
       "      <td>1</td>\n",
       "      <td>1</td>\n",
       "      <td>2.168349</td>\n",
       "      <td>41.430413</td>\n",
       "      <td>2017-04-06 19:00:00</td>\n",
       "    </tr>\n",
       "  </tbody>\n",
       "</table>\n",
       "</div>"
      ],
      "text/plain": [
       "             mild_injuries  serious_injuries  victims  vehicles_involved  \\\n",
       "id                                                                         \n",
       "2017S006811              1                 0        1                  2   \n",
       "2017S003575              1                 0        1                  2   \n",
       "2017S003286              1                 0        1                  1   \n",
       "2017S008856              1                 0        1                  1   \n",
       "2017S003750              1                 0        1                  1   \n",
       "2017S001504              1                 0        1                  2   \n",
       "2017S004447              1                 0        1                  1   \n",
       "2017S005606              1                 0        1                  3   \n",
       "2017S003201              1                 0        1                  1   \n",
       "\n",
       "             longitude   latitude                date  \n",
       "id                                                     \n",
       "2017S006811   2.147915  41.393601 2017-08-07 10:00:00  \n",
       "2017S003575   2.194670  41.412827 2017-04-21 10:00:00  \n",
       "2017S003286   2.136744  41.357598 2017-04-10 13:00:00  \n",
       "2017S008856   2.203962  41.407568 2017-10-26 08:00:00  \n",
       "2017S003750   2.168836  41.386306 2017-04-27 16:00:00  \n",
       "2017S001504   2.139400  41.418656 2017-02-23 14:00:00  \n",
       "2017S004447   2.209813  41.402218 2017-05-19 20:00:00  \n",
       "2017S005606   2.189016  41.383396 2017-06-27 17:00:00  \n",
       "2017S003201   2.168349  41.430413 2017-04-06 19:00:00  "
      ]
     },
     "execution_count": 22,
     "metadata": {},
     "output_type": "execute_result"
    }
   ],
   "source": [
    "# Assess whether or not the dataframe contains duplicated rows\n",
    "df.duplicated().sum()\n",
    "# 9\n",
    "\n",
    "#print duplicated rows.\n",
    "df[df.duplicated()]"
   ]
  },
  {
   "cell_type": "markdown",
   "metadata": {},
   "source": [
    "### Shape the dataframe before remvoing the duplicated column"
   ]
  },
  {
   "cell_type": "code",
   "execution_count": 25,
   "metadata": {},
   "outputs": [
    {
     "data": {
      "text/plain": [
       "(10330, 7)"
      ]
     },
     "execution_count": 25,
     "metadata": {},
     "output_type": "execute_result"
    }
   ],
   "source": [
    "df.shape\n",
    "\n",
    "# (10339, 7)\n",
    "\n",
    "# Drop duplicates\n",
    "\n",
    "df.drop_duplicates(inplace=True)\n",
    "\n",
    "df.shape\n",
    "\n",
    "#(10330, 7)"
   ]
  },
  {
   "cell_type": "markdown",
   "metadata": {},
   "source": [
    "# Time Analysis\n",
    "\n",
    "## How many accidents were rgistered by the police in Bercelona in 2017\n",
    "    We can easly obtain the total number of accidents registered in bercelona 2017 by using the pandas.Dataframe.shape attribute, since each entry of the data frame represent a different car accident"
   ]
  },
  {
   "cell_type": "code",
   "execution_count": 26,
   "metadata": {},
   "outputs": [
    {
     "name": "stdout",
     "output_type": "stream",
     "text": [
      "Total number of accidents in 2017 :10330\n"
     ]
    }
   ],
   "source": [
    "print(f'Total number of accidents in 2017 :{(df.shape[0])}')\n"
   ]
  },
  {
   "cell_type": "code",
   "execution_count": null,
   "metadata": {},
   "outputs": [],
   "source": []
  }
 ],
 "metadata": {
  "kernelspec": {
   "display_name": "Python 3",
   "language": "python",
   "name": "python3"
  },
  "language_info": {
   "codemirror_mode": {
    "name": "ipython",
    "version": 3
   },
   "file_extension": ".py",
   "mimetype": "text/x-python",
   "name": "python",
   "nbconvert_exporter": "python",
   "pygments_lexer": "ipython3",
   "version": "3.7.6"
  }
 },
 "nbformat": 4,
 "nbformat_minor": 4
}
