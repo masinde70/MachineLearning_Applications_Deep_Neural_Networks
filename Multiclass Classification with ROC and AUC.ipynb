{
 "cells": [
  {
   "cell_type": "markdown",
   "metadata": {},
   "source": [
    "\n",
    "# Multiclass Classification with ROC and AUC\n",
    "* **Binary Classification** - Classification between two possibilities (positive and negative). Common in medical testing, does the person have the disease (positive) or not (negative).\n",
    "* **Classification** - Classification between more than 2. The iris dataset (3-way classification).\n",
    "* **Regression** - Numeric prediction. How many MPG does a car get? (covered in next video)\n",
    "\n",
    "In this class session we will look at some visualizations for all three.\n",
    "\n",
    "It is important to evaluate the level of error in the results produced by a neural network. In this part we will look at how to evaluate error for both classification and regression neural networks."
   ]
  },
  {
   "cell_type": "markdown",
   "metadata": {},
   "source": [
    "# Binary Classification and ROC Charts\n",
    "\n",
    "\n",
    "Binary classification occurs when a neural network must choose between two options, which might be true/false, yes/no, correct/incorrect, or buy/sell. To see how to use binary classification, we will consider a classification system for a credit card company. This classification system must decide how to respond to a new potential customer. This system will either \"issue a credit card\" or \"decline a credit card.\"\n",
    "\n",
    "When you have only two classes that you can consider, the objective function's score is the number of false positive predictions versus the number of false negatives. False negatives and false positives are both types of errors, and it is important to understand the difference. For the previous example, issuing a credit card would be the positive. A false positive occurs when a credit card is issued to someone who will become a bad credit risk. A false negative happens when a credit card is declined to someone who would have been a good risk.\n",
    "\n",
    "Because only two options exist, we can choose the mistake that is the more serious type of error, a false positive or a false negative. For most banks issuing credit cards, a false positive is worse than a false negative. Declining a potentially good credit card holder is better than accepting a credit card holder who would cause the bank to undertake expensive collection activities.\n",
    "\n",
    "Consider the following program that uses the wcbreast_wdbc dataset to classify if a breast tumor is cancerous (malignant) or not (benign).\n",
    "\n"
   ]
  },
  {
   "cell_type": "code",
   "execution_count": 15,
   "metadata": {},
   "outputs": [
    {
     "data": {
      "text/html": [
       "<div>\n",
       "<style scoped>\n",
       "    .dataframe tbody tr th:only-of-type {\n",
       "        vertical-align: middle;\n",
       "    }\n",
       "\n",
       "    .dataframe tbody tr th {\n",
       "        vertical-align: top;\n",
       "    }\n",
       "\n",
       "    .dataframe thead th {\n",
       "        text-align: right;\n",
       "    }\n",
       "</style>\n",
       "<table border=\"1\" class=\"dataframe\">\n",
       "  <thead>\n",
       "    <tr style=\"text-align: right;\">\n",
       "      <th></th>\n",
       "      <th>id</th>\n",
       "      <th>diagnosis</th>\n",
       "      <th>...</th>\n",
       "      <th>worst_symmetry</th>\n",
       "      <th>worst_fractal_dimension</th>\n",
       "    </tr>\n",
       "  </thead>\n",
       "  <tbody>\n",
       "    <tr>\n",
       "      <th>0</th>\n",
       "      <td>842302</td>\n",
       "      <td>M</td>\n",
       "      <td>...</td>\n",
       "      <td>0.4601</td>\n",
       "      <td>0.11890</td>\n",
       "    </tr>\n",
       "    <tr>\n",
       "      <th>1</th>\n",
       "      <td>842517</td>\n",
       "      <td>M</td>\n",
       "      <td>...</td>\n",
       "      <td>0.2750</td>\n",
       "      <td>0.08902</td>\n",
       "    </tr>\n",
       "    <tr>\n",
       "      <th>...</th>\n",
       "      <td>...</td>\n",
       "      <td>...</td>\n",
       "      <td>...</td>\n",
       "      <td>...</td>\n",
       "      <td>...</td>\n",
       "    </tr>\n",
       "    <tr>\n",
       "      <th>567</th>\n",
       "      <td>927241</td>\n",
       "      <td>M</td>\n",
       "      <td>...</td>\n",
       "      <td>0.4087</td>\n",
       "      <td>0.12400</td>\n",
       "    </tr>\n",
       "    <tr>\n",
       "      <th>568</th>\n",
       "      <td>92751</td>\n",
       "      <td>B</td>\n",
       "      <td>...</td>\n",
       "      <td>0.2871</td>\n",
       "      <td>0.07039</td>\n",
       "    </tr>\n",
       "  </tbody>\n",
       "</table>\n",
       "<p>569 rows × 32 columns</p>\n",
       "</div>"
      ],
      "text/plain": [
       "         id diagnosis  ...  worst_symmetry  worst_fractal_dimension\n",
       "0    842302         M  ...          0.4601                  0.11890\n",
       "1    842517         M  ...          0.2750                  0.08902\n",
       "..      ...       ...  ...             ...                      ...\n",
       "567  927241         M  ...          0.4087                  0.12400\n",
       "568   92751         B  ...          0.2871                  0.07039\n",
       "\n",
       "[569 rows x 32 columns]"
      ]
     },
     "metadata": {},
     "output_type": "display_data"
    }
   ],
   "source": [
    "import pandas as pd\n",
    "\n",
    "df = pd.read_csv(\n",
    "    \"https://data.heatonresearch.com/data/t81-558/wcbreast_wdbc.csv\",\n",
    "    na_values=['NA','?'])\n",
    "\n",
    "pd.set_option('display.max_columns', 5)\n",
    "pd.set_option('display.max_rows', 5)\n",
    "\n",
    "display(df)"
   ]
  },
  {
   "cell_type": "markdown",
   "metadata": {},
   "source": [
    "ROC curves can be a bit confusing. However, they are very common. It is important to know how to read them. Even their name is confusing. Do not worry about their name, it comes from electrical engineering (EE).\n",
    "\n",
    "Binary classification is common in medical testing. Often you want to diagnose if someone has a disease. This can lead to two types of errors, know as false positives and false negatives:\n",
    "\n",
    "* **False Positive** - Your test (neural network) indicated that the patient had the disease; however, the patient did not have the disease.\n",
    "* **False Negative** - Your test (neural network) indicated that the patient did not have the disease; however, the patient did have the disease.\n",
    "* **True Positive** - Your test (neural network) correctly identified that the patient had the disease.\n",
    "* **True Negative** - Your test (neural network) correctly identified that the patient did not have the disease.\n",
    "\n",
    "Neural networks classify in terms of probability of it being positive. However, at what probability do you give a positive result? Is the cutoff 50%? 90%? Where you set this cutoff is called the threshold. Anything above the cutoff is positive, anything below is negative. Setting this cutoff allows the model to be more sensitive or specific:"
   ]
  },
  {
   "cell_type": "code",
   "execution_count": 16,
   "metadata": {},
   "outputs": [
    {
     "data": {
      "image/png": "[encoded data removed]",
      "text/plain": [
       "<Figure size 432x288 with 1 Axes>"
      ]
     },
     "metadata": {
      "needs_background": "light"
     },
     "output_type": "display_data"
    }
   ],
   "source": [
    "%matplotlib inline\n",
    "import matplotlib.pyplot as plt\n",
    "import numpy as np\n",
    "import scipy.stats as stats\n",
    "import math\n",
    "\n",
    "mu1 = -2\n",
    "mu2 = 2\n",
    "variance = 1\n",
    "sigma = math.sqrt(variance)\n",
    "x1 = np.linspace(mu1 - 5*sigma, mu1 + 4*sigma, 100)\n",
    "x2 = np.linspace(mu2 - 5*sigma, mu2 + 4*sigma, 100)\n",
    "plt.plot(x1, stats.norm.pdf(x1, mu1, sigma)/1,color=\"green\", \n",
    "         linestyle='dashed')\n",
    "plt.plot(x2, stats.norm.pdf(x2, mu2, sigma)/1,color=\"red\")\n",
    "plt.axvline(x=-2,color=\"black\")\n",
    "plt.axvline(x=0,color=\"black\")\n",
    "plt.axvline(x=+2,color=\"black\")\n",
    "plt.text(-2.7,0.55,\"Sensitive\")\n",
    "plt.text(-0.7,0.55,\"Balanced\")\n",
    "plt.text(1.7,0.55,\"Specific\")\n",
    "plt.ylim([0,0.53])\n",
    "plt.xlim([-5,5])\n",
    "plt.legend(['Negative','Positive'])\n",
    "plt.yticks([])\n",
    "plt.show()"
   ]
  },
  {
   "cell_type": "code",
   "execution_count": 17,
   "metadata": {},
   "outputs": [],
   "source": [
    "# Prepare data -apply z-score to all x columns\n",
    "# Only do this if you have no categoricals ( and are you sure you want to use z-score across the board)\n",
    "from scipy.stats import zscore\n",
    "x_columns = df.columns.drop('diagnosis').drop('id')\n",
    "for col in x_columns:\n",
    "    df[col] = zscore(df[col])\n",
    "\n",
    "# convert to numpy - Regression\n",
    "x = df[x_columns].values\n",
    "y = df['diagnosis'].map({'M':1, \"B\":0}).values # Binary classification M is 1 and B is 0"
   ]
  },
  {
   "cell_type": "code",
   "execution_count": 18,
   "metadata": {},
   "outputs": [],
   "source": [
    "%matplotlib inline\n",
    "import matplotlib.pyplot as plt\n",
    "from sklearn.metrics import roc_curve, auc\n",
    "\n",
    "# Plot a confusion matrix.\n",
    "# cm is the confusion matrix, names are the names of the classes.\n",
    "def plot_confusion_matrix(cm, names, title='Confusion matrix', \n",
    "                            cmap=plt.cm.Blues):\n",
    "    plt.imshow(cm, interpolation='nearest', cmap=cmap)\n",
    "    plt.title(title)\n",
    "    plt.colorbar()\n",
    "    tick_marks = np.arange(len(names))\n",
    "    plt.xticks(tick_marks, names, rotation=45)\n",
    "    plt.yticks(tick_marks, names)\n",
    "    plt.tight_layout()\n",
    "    plt.ylabel('True label')\n",
    "    plt.xlabel('Predicted label')\n",
    "    \n",
    "\n",
    "# Plot an ROC. pred - the predictions, y - the expected output.\n",
    "def plot_roc(pred,y):\n",
    "    fpr, tpr, _ = roc_curve(y, pred)\n",
    "    roc_auc = auc(fpr, tpr)\n",
    "\n",
    "    plt.figure()\n",
    "    plt.plot(fpr, tpr, label='ROC curve (area = %0.2f)' % roc_auc)\n",
    "    plt.plot([0, 1], [0, 1], 'k--')\n",
    "    plt.xlim([0.0, 1.0])\n",
    "    plt.ylim([0.0, 1.05])\n",
    "    plt.xlabel('False Positive Rate')\n",
    "    plt.ylabel('True Positive Rate')\n",
    "    plt.title('Receiver Operating Characteristic (ROC)')\n",
    "    plt.legend(loc=\"lower right\")\n",
    "    plt.show()"
   ]
  },
  {
   "cell_type": "markdown",
   "metadata": {},
   "source": [
    "# ROC Chart Example\n",
    "The following code demonstrates how to implement a ROC chart in Python."
   ]
  },
  {
   "cell_type": "code",
   "execution_count": 19,
   "metadata": {},
   "outputs": [
    {
     "name": "stdout",
     "output_type": "stream",
     "text": [
      "Train on 426 samples, validate on 143 samples\n",
      "Epoch 1/1000\n",
      "426/426 - 0s - loss: 0.6504 - accuracy: 0.9038 - val_loss: 0.5745 - val_accuracy: 0.9580\n",
      "Epoch 2/1000\n",
      "426/426 - 0s - loss: 0.4884 - accuracy: 0.9413 - val_loss: 0.3436 - val_accuracy: 0.9580\n",
      "Epoch 3/1000\n",
      "426/426 - 0s - loss: 0.2673 - accuracy: 0.9437 - val_loss: 0.1522 - val_accuracy: 0.9580\n",
      "Epoch 4/1000\n",
      "426/426 - 0s - loss: 0.1438 - accuracy: 0.9554 - val_loss: 0.0830 - val_accuracy: 0.9720\n",
      "Epoch 5/1000\n",
      "426/426 - 0s - loss: 0.1003 - accuracy: 0.9695 - val_loss: 0.0633 - val_accuracy: 0.9790\n",
      "Epoch 6/1000\n",
      "426/426 - 0s - loss: 0.0825 - accuracy: 0.9789 - val_loss: 0.0550 - val_accuracy: 0.9790\n",
      "Epoch 7/1000\n",
      "426/426 - 0s - loss: 0.0723 - accuracy: 0.9789 - val_loss: 0.0513 - val_accuracy: 0.9930\n",
      "Epoch 8/1000\n",
      "426/426 - 0s - loss: 0.0650 - accuracy: 0.9812 - val_loss: 0.0474 - val_accuracy: 0.9930\n",
      "Epoch 9/1000\n",
      "426/426 - 0s - loss: 0.0611 - accuracy: 0.9836 - val_loss: 0.0455 - val_accuracy: 0.9930\n",
      "Epoch 10/1000\n",
      "426/426 - 0s - loss: 0.0565 - accuracy: 0.9836 - val_loss: 0.0449 - val_accuracy: 0.9930\n",
      "Epoch 11/1000\n",
      "426/426 - 0s - loss: 0.0529 - accuracy: 0.9859 - val_loss: 0.0445 - val_accuracy: 0.9930\n",
      "Epoch 12/1000\n",
      "426/426 - 0s - loss: 0.0490 - accuracy: 0.9836 - val_loss: 0.0498 - val_accuracy: 0.9860\n",
      "Epoch 13/1000\n",
      "426/426 - 0s - loss: 0.0464 - accuracy: 0.9859 - val_loss: 0.0458 - val_accuracy: 0.9860\n",
      "Epoch 14/1000\n",
      "Restoring model weights from the end of the best epoch.\n",
      "426/426 - 0s - loss: 0.0425 - accuracy: 0.9906 - val_loss: 0.0464 - val_accuracy: 0.9860\n",
      "Epoch 00014: early stopping\n"
     ]
    },
    {
     "data": {
      "text/plain": [
       "<tensorflow.python.keras.callbacks.History at 0x7fb1dc15db10>"
      ]
     },
     "execution_count": 19,
     "metadata": {},
     "output_type": "execute_result"
    }
   ],
   "source": [
    "# Classification neural network\n",
    "import numpy as np \n",
    "import tensorflow.keras\n",
    "from tensorflow.keras.models import Sequential\n",
    "from tensorflow.keras.layers import Dense, Activation\n",
    "from tensorflow.keras.callbacks import EarlyStopping\n",
    "from sklearn.model_selection import train_test_split\n",
    "\n",
    "# Split into train/test\n",
    "x_train, x_test, y_train, y_test = train_test_split(x, y, test_size=0.25, random_state=42)\n",
    "\n",
    "model = Sequential()\n",
    "model.add(Dense(100, input_dim=x.shape[1], activation='relu', kernel_initializer='random_normal'))\n",
    "model.add(Dense(50, activation='relu', kernel_initializer='random_normal'))\n",
    "model.add(Dense(1,activation='sigmoid', kernel_initializer='random_normal'))\n",
    "model.compile(loss='binary_crossentropy', optimizer=tensorflow.keras.optimizers.Adam(),\n",
    "             metrics = ['accuracy'])\n",
    "monitor = EarlyStopping(monitor='val_loss', min_delta=1e-3, patience=5, verbose=1, mode='auto', restore_best_weights=True)\n",
    "model.fit(x_train,y_train,validation_data=(x_test,y_test), callbacks=[monitor], verbose=2, epochs=1000)\n"
   ]
  },
  {
   "cell_type": "code",
   "execution_count": 6,
   "metadata": {},
   "outputs": [
    {
     "data": {
      "image/png": "[encoded data removed]",
      "text/plain": [
       "<Figure size 432x288 with 1 Axes>"
      ]
     },
     "metadata": {
      "needs_background": "light"
     },
     "output_type": "display_data"
    }
   ],
   "source": [
    "pred = model.predict(x_test)\n",
    "plot_roc(pred,y_test)"
   ]
  },
  {
   "cell_type": "markdown",
   "metadata": {},
   "source": [
    "# Multiclass Classification Error Metrics\n",
    "\n",
    "If you want to predict more than one outcome, you will need more than one output neuron. Because a single neuron can predict two outcomes, a neural network with two output neurons is somewhat rare. If there are three or more outcomes, there will be three or more output neurons. The following sections will examine several metrics for evaluating classification error. The following classification neural network will be used to evaluate."
   ]
  },
  {
   "cell_type": "code",
   "execution_count": 7,
   "metadata": {},
   "outputs": [],
   "source": [
    "import pandas as pd\n",
    "from scipy.stats import zscore\n",
    "\n",
    "# Read the data set\n",
    "df = pd.read_csv(\n",
    "    \"https://data.heatonresearch.com/data/t81-558/jh-simple-dataset.csv\",\n",
    "    na_values=['NA','?'])\n",
    "\n",
    "# Generate dummies for job\n",
    "df = pd.concat([df,pd.get_dummies(df['job'],prefix=\"job\")],axis=1)\n",
    "df.drop('job', axis=1, inplace=True)\n",
    "\n",
    "# Generate dummies for area\n",
    "df = pd.concat([df,pd.get_dummies(df['area'],prefix=\"area\")],axis=1)\n",
    "df.drop('area', axis=1, inplace=True)\n",
    "\n",
    "# Missing values for income\n",
    "med = df['income'].median()\n",
    "df['income'] = df['income'].fillna(med)\n",
    "\n",
    "# Standardize ranges\n",
    "df['income'] = zscore(df['income'])\n",
    "df['aspect'] = zscore(df['aspect'])\n",
    "df['save_rate'] = zscore(df['save_rate'])\n",
    "df['age'] = zscore(df['age'])\n",
    "df['subscriptions'] = zscore(df['subscriptions'])\n",
    "\n",
    "# Convert to numpy - Classification\n",
    "x_columns = df.columns.drop('product').drop('id')\n",
    "x = df[x_columns].values\n",
    "dummies = pd.get_dummies(df['product']) # Classification\n",
    "products = dummies.columns\n",
    "y = dummies.values"
   ]
  },
  {
   "cell_type": "code",
   "execution_count": 8,
   "metadata": {},
   "outputs": [
    {
     "name": "stdout",
     "output_type": "stream",
     "text": [
      "Train on 1500 samples, validate on 500 samples\n",
      "Epoch 1/1000\n",
      "1500/1500 - 0s - loss: 1.4724 - accuracy: 0.4620 - val_loss: 1.1430 - val_accuracy: 0.4980\n",
      "Epoch 2/1000\n",
      "1500/1500 - 0s - loss: 1.1431 - accuracy: 0.4680 - val_loss: 1.0891 - val_accuracy: 0.4980\n",
      "Epoch 3/1000\n",
      "1500/1500 - 0s - loss: 1.0964 - accuracy: 0.4820 - val_loss: 1.0496 - val_accuracy: 0.4980\n",
      "Epoch 4/1000\n",
      "1500/1500 - 0s - loss: 1.0290 - accuracy: 0.5407 - val_loss: 0.9722 - val_accuracy: 0.6400\n",
      "Epoch 5/1000\n",
      "1500/1500 - 0s - loss: 0.9221 - accuracy: 0.6140 - val_loss: 0.8892 - val_accuracy: 0.6600\n",
      "Epoch 6/1000\n",
      "1500/1500 - 0s - loss: 0.8334 - accuracy: 0.6667 - val_loss: 0.8325 - val_accuracy: 0.6800\n",
      "Epoch 7/1000\n",
      "1500/1500 - 0s - loss: 0.7936 - accuracy: 0.6840 - val_loss: 0.8244 - val_accuracy: 0.6520\n",
      "Epoch 8/1000\n",
      "1500/1500 - 0s - loss: 0.7794 - accuracy: 0.6893 - val_loss: 0.7944 - val_accuracy: 0.6900\n",
      "Epoch 9/1000\n",
      "1500/1500 - 0s - loss: 0.7527 - accuracy: 0.6947 - val_loss: 0.8429 - val_accuracy: 0.6420\n",
      "Epoch 10/1000\n",
      "1500/1500 - 0s - loss: 0.7410 - accuracy: 0.6960 - val_loss: 0.7759 - val_accuracy: 0.6880\n",
      "Epoch 11/1000\n",
      "1500/1500 - 0s - loss: 0.7266 - accuracy: 0.7053 - val_loss: 0.7767 - val_accuracy: 0.6940\n",
      "Epoch 12/1000\n",
      "1500/1500 - 0s - loss: 0.7182 - accuracy: 0.6960 - val_loss: 0.7662 - val_accuracy: 0.6800\n",
      "Epoch 13/1000\n",
      "1500/1500 - 0s - loss: 0.7022 - accuracy: 0.7120 - val_loss: 0.7584 - val_accuracy: 0.6840\n",
      "Epoch 14/1000\n",
      "1500/1500 - 0s - loss: 0.6959 - accuracy: 0.7013 - val_loss: 0.7509 - val_accuracy: 0.7040\n",
      "Epoch 15/1000\n",
      "1500/1500 - 0s - loss: 0.6883 - accuracy: 0.7047 - val_loss: 0.7652 - val_accuracy: 0.6700\n",
      "Epoch 16/1000\n",
      "1500/1500 - 0s - loss: 0.7010 - accuracy: 0.7020 - val_loss: 0.7750 - val_accuracy: 0.6880\n",
      "Epoch 17/1000\n",
      "1500/1500 - 0s - loss: 0.6906 - accuracy: 0.6993 - val_loss: 0.7426 - val_accuracy: 0.6880\n",
      "Epoch 18/1000\n",
      "1500/1500 - 0s - loss: 0.6753 - accuracy: 0.7067 - val_loss: 0.7385 - val_accuracy: 0.6960\n",
      "Epoch 19/1000\n",
      "1500/1500 - 0s - loss: 0.6776 - accuracy: 0.7107 - val_loss: 0.7437 - val_accuracy: 0.6980\n",
      "Epoch 20/1000\n",
      "1500/1500 - 0s - loss: 0.6770 - accuracy: 0.7013 - val_loss: 0.7366 - val_accuracy: 0.6960\n",
      "Epoch 21/1000\n",
      "1500/1500 - 0s - loss: 0.6644 - accuracy: 0.7160 - val_loss: 0.7371 - val_accuracy: 0.6940\n",
      "Epoch 22/1000\n",
      "1500/1500 - 0s - loss: 0.6634 - accuracy: 0.7200 - val_loss: 0.7801 - val_accuracy: 0.6880\n",
      "Epoch 23/1000\n",
      "1500/1500 - 0s - loss: 0.6763 - accuracy: 0.7073 - val_loss: 0.7545 - val_accuracy: 0.6660\n",
      "Epoch 24/1000\n",
      "1500/1500 - 0s - loss: 0.6635 - accuracy: 0.7133 - val_loss: 0.7363 - val_accuracy: 0.7000\n",
      "Epoch 25/1000\n",
      "1500/1500 - 0s - loss: 0.6512 - accuracy: 0.7133 - val_loss: 0.7344 - val_accuracy: 0.7000\n",
      "Epoch 26/1000\n",
      "1500/1500 - 0s - loss: 0.6561 - accuracy: 0.7160 - val_loss: 0.7594 - val_accuracy: 0.6840\n",
      "Epoch 27/1000\n",
      "1500/1500 - 0s - loss: 0.6539 - accuracy: 0.7133 - val_loss: 0.7287 - val_accuracy: 0.6960\n",
      "Epoch 28/1000\n",
      "1500/1500 - 0s - loss: 0.6502 - accuracy: 0.7193 - val_loss: 0.7836 - val_accuracy: 0.6640\n",
      "Epoch 29/1000\n",
      "1500/1500 - 0s - loss: 0.6425 - accuracy: 0.7273 - val_loss: 0.7514 - val_accuracy: 0.6740\n",
      "Epoch 30/1000\n",
      "1500/1500 - 0s - loss: 0.6431 - accuracy: 0.7247 - val_loss: 0.7293 - val_accuracy: 0.6980\n",
      "Epoch 31/1000\n",
      "1500/1500 - 0s - loss: 0.6464 - accuracy: 0.7280 - val_loss: 0.7373 - val_accuracy: 0.6980\n",
      "Epoch 32/1000\n",
      "1500/1500 - 0s - loss: 0.6459 - accuracy: 0.7240 - val_loss: 0.7261 - val_accuracy: 0.6940\n",
      "Epoch 33/1000\n",
      "1500/1500 - 0s - loss: 0.6335 - accuracy: 0.7280 - val_loss: 0.7439 - val_accuracy: 0.6940\n",
      "Epoch 34/1000\n",
      "1500/1500 - 0s - loss: 0.6399 - accuracy: 0.7253 - val_loss: 0.7273 - val_accuracy: 0.7080\n",
      "Epoch 35/1000\n",
      "1500/1500 - 0s - loss: 0.6319 - accuracy: 0.7280 - val_loss: 0.7487 - val_accuracy: 0.7000\n",
      "Epoch 36/1000\n",
      "1500/1500 - 0s - loss: 0.6352 - accuracy: 0.7273 - val_loss: 0.7305 - val_accuracy: 0.6960\n",
      "Epoch 37/1000\n",
      "Restoring model weights from the end of the best epoch.\n",
      "1500/1500 - 0s - loss: 0.6324 - accuracy: 0.7233 - val_loss: 0.7484 - val_accuracy: 0.6800\n",
      "Epoch 00037: early stopping\n"
     ]
    },
    {
     "data": {
      "text/plain": [
       "<tensorflow.python.keras.callbacks.History at 0x7fb1f0108fd0>"
      ]
     },
     "execution_count": 8,
     "metadata": {},
     "output_type": "execute_result"
    }
   ],
   "source": [
    "# classification neuralnetwork\n",
    "import numpy as np\n",
    "import tensorflow.keras\n",
    "from tensorflow.keras.models import Sequential\n",
    "from tensorflow.keras.layers import Dense, Activation\n",
    "from tensorflow.keras.callbacks import EarlyStopping\n",
    "from sklearn.model_selection import train_test_split\n",
    "\n",
    "#split into train/test\n",
    "x_train, x_test, y_train, y_test = train_test_split(x, y, test_size=0.25, random_state=42)\n",
    "\n",
    "model = Sequential()\n",
    "model.add(Dense(100, input_dim=x.shape[1], activation='relu', kernel_initializer='random_normal'))\n",
    "model.add(Dense(50,activation='relu',kernel_initializer='random_normal'))\n",
    "model.add(Dense(25,activation='relu',kernel_initializer='random_normal'))\n",
    "model.add(Dense(y.shape[1],activation='softmax', kernel_initializer='random_normal'))\n",
    "model.compile(loss='categorical_crossentropy', optimizer=tensorflow.keras.optimizers.Adam(),metrics=['accuracy'])\n",
    "monitor = EarlyStopping(monitor='val_loss',min_delta=1e-3,patience=5,verbose=1,mode='auto', restore_best_weights=True)\n",
    "model.fit(x_train,y_train,validation_data=(x_test,y_test),callbacks=[monitor],verbose=2,epochs=1000)"
   ]
  },
  {
   "cell_type": "markdown",
   "metadata": {},
   "source": [
    "# Calculate Classification Accuracy\n",
    "Accuracy is the number of rows where the neural network correctly predicted the target class. Accuracy is only used for classification, not regression.\n",
    "\n",
    "$ accuracy = \\frac{c}{N} $\n",
    "\n",
    "Where $c$ is the number correct and $N$ is the size of the evaluated set (training or validation). Higher accuracy numbers are desired.\n",
    "\n",
    "As we just saw, by default, Keras will return the percent probability for each class. We can change these prediction probabilities into the actual iris predicted with **argmax**."
   ]
  },
  {
   "cell_type": "code",
   "execution_count": 9,
   "metadata": {},
   "outputs": [],
   "source": [
    "pred = model.predict(x_test)\n",
    "pred = np.argmax(pred,axis=1) \n",
    "# raw probabilities to chosen class (highest probability)"
   ]
  },
  {
   "cell_type": "markdown",
   "metadata": {},
   "source": [
    "Now that we have the actual iris flower predicted, we can calculate the percent accuracy (how many were correctly classified).\n",
    "\n"
   ]
  },
  {
   "cell_type": "code",
   "execution_count": 10,
   "metadata": {},
   "outputs": [
    {
     "name": "stdout",
     "output_type": "stream",
     "text": [
      "Accuracy score: 0.694\n"
     ]
    }
   ],
   "source": [
    "from sklearn import metrics\n",
    "\n",
    "y_compare = np.argmax(y_test, axis=1)\n",
    "score = metrics.accuracy_score(y_compare, pred)\n",
    "print(\"Accuracy score: {}\".format(score))"
   ]
  },
  {
   "cell_type": "markdown",
   "metadata": {},
   "source": [
    "# Calculate Classification Log Loss\n",
    "\n",
    "Accuracy is like a final exam with no partial credit. However, neural networks can predict a probability of each of the target classes. Neural networks will give high probabilities to predictions that are more likely. Log loss is an error metric that penalizes confidence in wrong answers. Lower log loss values are desired.\n",
    "\n",
    "The following code shows the output of predict_proba:"
   ]
  },
  {
   "cell_type": "code",
   "execution_count": 11,
   "metadata": {},
   "outputs": [
    {
     "name": "stdout",
     "output_type": "stream",
     "text": [
      "Numpy array of predictions\n"
     ]
    },
    {
     "data": {
      "text/plain": [
       "array([[0.    , 0.0733, 0.7382, 0.1882, 0.0002, 0.    , 0.    ],\n",
       "       [0.    , 0.78  , 0.2191, 0.    , 0.0009, 0.    , 0.    ],\n",
       "       [0.    , 0.7149, 0.2822, 0.0001, 0.0027, 0.    , 0.    ],\n",
       "       [0.    , 0.2817, 0.7064, 0.0108, 0.0011, 0.    , 0.    ],\n",
       "       [0.    , 0.0362, 0.6952, 0.2685, 0.    , 0.    , 0.    ]],\n",
       "      dtype=float32)"
      ]
     },
     "metadata": {},
     "output_type": "display_data"
    },
    {
     "name": "stdout",
     "output_type": "stream",
     "text": [
      "As percent probability\n",
      "[ 0.      7.333  73.8243 18.8207  0.0221  0.      0.    ]\n",
      "Log loss score: 0.7260574517101049\n"
     ]
    }
   ],
   "source": [
    "from IPython.display import display\n",
    "\n",
    "# Don't display numpy in Scientific notation\n",
    "np.set_printoptions(precision=4)\n",
    "np.set_printoptions(suppress=True)\n",
    "\n",
    "#Generate predictions\n",
    "pred = model.predict(x_test)\n",
    "\n",
    "print(\"Numpy array of predictions\")\n",
    "display(pred[0:5])\n",
    "\n",
    "print(\"As percent probability\")\n",
    "print(pred[0]*100)\n",
    "\n",
    "score = metrics.log_loss(y_test,pred)\n",
    "print(\"Log loss score: {}\".format(score))\n",
    "\n",
    "# raw probabilities to chosen class(highest probability)\n",
    "pred = np.argmax(pred,axis=1)"
   ]
  },
  {
   "cell_type": "markdown",
   "metadata": {},
   "source": [
    "\n",
    "Log loss is calculated as follows:\n",
    "\n",
    "$ \\mbox{log loss} = -\\frac{1}{N}\\sum_{i=1}^N {( {y}_i\\log(\\hat{y}_i) + (1 - {y}_i)\\log(1 - \\hat{y}_i))} $\n",
    "\n",
    "You should use this equation only as an objective function for classifications that have two outcomes. The variable y-hat is the neural network’s prediction, and the variable y is the known correct answer. In this case, y will always be 0 or 1. The training data have no probabilities. The neural network classifies it either into one class (1) or the other (0).\n",
    "\n",
    "The variable N represents the number of elements in the training set the number of questions in the test. We divide by N because this process is customary for an average. We also begin the equation with a negative because the log function is always negative over the domain 0 to 1. This negation allows a positive score for the training to minimize.\n",
    "\n",
    "You will notice two terms are separated by the addition (+). Each contains a log function. Because y will be either 0 or 1, then one of these two terms will cancel out to 0. If y is 0, then the first term will reduce to 0. If y is 1, then the second term will be 0.\n",
    "\n",
    "If your prediction for the first class of a two-class prediction is y-hat, then your prediction for the second class is 1 minus y-hat. Essentially, if your prediction for class A is 70% (0.7), then your prediction for class B is 30% (0.3). Your score will increase by the log of your prediction for the correct class. If the neural network had predicted 1.0 for class A, and the correct answer was A, your score would increase by log (1), which is 0. For log loss, we seek a low score, so a correct answer results in 0. Some of these log values for a neural network's probability estimate for the correct class:\n",
    "\n",
    "* -log(1.0) = 0\n",
    "* -log(0.95) = 0.02\n",
    "* -log(0.9) = 0.05\n",
    "* -log(0.8) = 0.1\n",
    "* -log(0.5) = 0.3\n",
    "* -log(0.1) = 1\n",
    "* -log(0.01) = 2\n",
    "* -log(1.0e-12) = 12\n",
    "* -log(0.0) = negative infinity\n",
    "\n",
    "As you can see, giving a low confidence to the correct answer affects the score the most. Because log (0) is negative infinity, we typically impose a minimum value. Of course, the above log values are for a single training set element. We will average the log values for the entire training set.\n",
    "\n",
    "The log function is useful to penalizing wrong answers. The following code demonstrates the utility of the log function:"
   ]
  },
  {
   "cell_type": "code",
   "execution_count": 12,
   "metadata": {},
   "outputs": [
    {
     "name": "stderr",
     "output_type": "stream",
     "text": [
      "/home/masinde/anaconda3/lib/python3.7/site-packages/ipykernel_launcher.py:12: RuntimeWarning: divide by zero encountered in log\n",
      "  if sys.path[0] == '':\n"
     ]
    },
    {
     "data": {
      "image/png": "[encoded data removed]",
      "text/plain": [
       "<Figure size 864x720 with 1 Axes>"
      ]
     },
     "metadata": {
      "needs_background": "light"
     },
     "output_type": "display_data"
    }
   ],
   "source": [
    "%matplotlib inline\n",
    "from matplotlib.pyplot import figure, show\n",
    "from numpy import arange, sin, pi\n",
    "\n",
    "#t = arange(1e-5, 5.0, 0.00001)\n",
    "#t = arange(1.0, 5.0, 0.00001) # computer scientists\n",
    "t = arange(0.0, 1.0, 0.00001)  # data     scientists\n",
    "\n",
    "fig = figure(1,figsize=(12, 10))\n",
    "\n",
    "ax1 = fig.add_subplot(211)\n",
    "ax1.plot(t, np.log(t))\n",
    "ax1.grid(True)\n",
    "ax1.set_ylim((-8, 1.5))\n",
    "ax1.set_xlim((-0.1, 2))\n",
    "ax1.set_xlabel('x')\n",
    "ax1.set_ylabel('y')\n",
    "ax1.set_title('log(x)')\n",
    "\n",
    "show()"
   ]
  },
  {
   "cell_type": "code",
   "execution_count": 13,
   "metadata": {},
   "outputs": [
    {
     "name": "stdout",
     "output_type": "stream",
     "text": [
      "Confusion matrix, without normalization\n",
      "[[ 21   1   0   0   0   0   0]\n",
      " [  4 189  56   0   0   0   0]\n",
      " [  0  51 131   5   0   0   0]\n",
      " [  0   0   8   6   0   0   0]\n",
      " [  0   8   0   0   0   0   0]\n",
      " [ 10   7   0   0   0   0   0]\n",
      " [  3   0   0   0   0   0   0]]\n",
      "Normalized confusion matrix\n",
      "[[0.95 0.05 0.   0.   0.   0.   0.  ]\n",
      " [0.02 0.76 0.22 0.   0.   0.   0.  ]\n",
      " [0.   0.27 0.7  0.03 0.   0.   0.  ]\n",
      " [0.   0.   0.57 0.43 0.   0.   0.  ]\n",
      " [0.   1.   0.   0.   0.   0.   0.  ]\n",
      " [0.59 0.41 0.   0.   0.   0.   0.  ]\n",
      " [1.   0.   0.   0.   0.   0.   0.  ]]\n"
     ]
    },
    {
     "data": {
      "image/png": "[encoded data removed]",
      "text/plain": [
       "<Figure size 432x288 with 2 Axes>"
      ]
     },
     "metadata": {
      "needs_background": "light"
     },
     "output_type": "display_data"
    },
    {
     "data": {
      "image/png": "[encoded data removed]",
      "text/plain": [
       "<Figure size 432x288 with 2 Axes>"
      ]
     },
     "metadata": {
      "needs_background": "light"
     },
     "output_type": "display_data"
    }
   ],
   "source": [
    "import numpy as np\n",
    "from sklearn import svm, datasets\n",
    "from sklearn.model_selection import train_test_split\n",
    "from sklearn.metrics import confusion_matrix\n",
    "\n",
    "# Compute confusion matrix\n",
    "cm = confusion_matrix(y_compare, pred)\n",
    "np.set_printoptions(precision=2)\n",
    "print('Confusion matrix, without normalization')\n",
    "print(cm)\n",
    "plt.figure()\n",
    "plot_confusion_matrix(cm, products)\n",
    "\n",
    "# Normalize the confusion matrix by row (i.e by the number of samples\n",
    "# in each class)\n",
    "cm_normalized = cm.astype('float') / cm.sum(axis=1)[:, np.newaxis]\n",
    "print('Normalized confusion matrix')\n",
    "print(cm_normalized)\n",
    "plt.figure()\n",
    "plot_confusion_matrix(cm_normalized, products, \n",
    "        title='Normalized confusion matrix')\n",
    "\n",
    "plt.show()"
   ]
  },
  {
   "cell_type": "code",
   "execution_count": null,
   "metadata": {},
   "outputs": [],
   "source": []
  }
 ],
 "metadata": {
  "kernelspec": {
   "display_name": "Python 3",
   "language": "python",
   "name": "python3"
  },
  "language_info": {
   "codemirror_mode": {
    "name": "ipython",
    "version": 3
   },
   "file_extension": ".py",
   "mimetype": "text/x-python",
   "name": "python",
   "nbconvert_exporter": "python",
   "pygments_lexer": "ipython3",
   "version": "3.7.6"
  }
 },
 "nbformat": 4,
 "nbformat_minor": 4
}
