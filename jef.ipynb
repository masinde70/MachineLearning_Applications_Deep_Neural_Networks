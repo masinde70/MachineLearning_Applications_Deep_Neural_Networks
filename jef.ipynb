{
 "cells": [
  {
   "cell_type": "code",
   "execution_count": 1,
   "metadata": {},
   "outputs": [],
   "source": [
    "def say_hello(speaker, person_to_greet, greeting = \"Hello\"):\n",
    "    print(f'{greeting} {person_to_greet}, this is {speaker}.')\n",
    "    \n",
    "say_hello('Jeff', \"John\")\n",
    "say_hello('Jeff', \"John\", \"Goodbye\")\n",
    "say_hello(speaker='Jeff', person_to_greet=\"John\", greeting = \"Goodbye\")"
   ]
  },
  {
   "cell_type": "code",
   "execution_count": 2,
   "metadata": {},
   "outputs": [],
   "source": [
    "def process_string(str):\n",
    "    t = str.strip()\n",
    "    return t[0].upper()+t[1:]"
   ]
  },
  {
   "cell_type": "code",
   "execution_count": 3,
   "metadata": {},
   "outputs": [],
   "source": [
    "str = process_string(\" hello \")\n",
    "print(f'\"{str}\"')"
   ]
  },
  {
   "cell_type": "markdown",
   "metadata": {},
   "source": [
    "### Python's map is very useful function that provided in many different programming languages\n",
    "       The map function takes a list and applies a function to each member of the list and returns\n",
    "       a second list that is the same size"
   ]
  },
  {
   "cell_type": "code",
   "execution_count": 4,
   "metadata": {},
   "outputs": [],
   "source": [
    "l = [' apple ', 'pear ', 'orange', 'pine apple']\n",
    "list(map(process_string, l))"
   ]
  },
  {
   "cell_type": "markdown",
   "metadata": {},
   "source": [
    "## The map\n",
    "    The map function is very similar to the Python comprehension that we previously explored.\n",
    "    The following comprehension accomplishes the same task as the previous call to map"
   ]
  },
  {
   "cell_type": "code",
   "execution_count": 5,
   "metadata": {},
   "outputs": [],
   "source": [
    "l = [' apple ', 'pear ', 'orange', 'pine apple']\n",
    "l2 = [process_string(x) for x in l]\n",
    "print(l2)"
   ]
  },
  {
   "cell_type": "markdown",
   "metadata": {},
   "source": [
    "## Map\n",
    "    The choice of using a map function or comprehension is up to the programmer. \n",
    "    I tend to prefer map since it is common in other programming languages."
   ]
  },
  {
   "cell_type": "markdown",
   "metadata": {},
   "source": [
    "# Filter\n",
    "    While a map function always creates a new list of the same size as the original, the filter function creates\n",
    "    a potentially smaller list"
   ]
  },
  {
   "cell_type": "code",
   "execution_count": 6,
   "metadata": {},
   "outputs": [
    {
     "name": "stdout",
     "output_type": "stream",
     "text": [
      "[10, 20]\n"
     ]
    }
   ],
   "source": [
    "def greater_than_five(x):\n",
    "    return x>5\n",
    "l = [1, 10, 20, 3, -2, 0]\n",
    "\n",
    "l2 = list(filter(greater_than_five, l))\n",
    "print(l2)"
   ]
  },
  {
   "cell_type": "markdown",
   "metadata": {},
   "source": [
    "# Lambda \n",
    "    It might seem somewhat tedious to have to create an entire function just\n",
    "    to check to see if a value is greater than 5. A lambda saves you this effort.\n",
    "    A lambda is essesintially an unnamed function"
   ]
  },
  {
   "cell_type": "code",
   "execution_count": 7,
   "metadata": {},
   "outputs": [
    {
     "name": "stdout",
     "output_type": "stream",
     "text": [
      "[10, 20]\n"
     ]
    }
   ],
   "source": [
    "l = [1, 10, 20, 3, -2, 0]\n",
    "l2 = list(filter(lambda x: x>5, l))\n",
    "print(l2)"
   ]
  },
  {
   "cell_type": "markdown",
   "metadata": {},
   "source": [
    "# Reduce\n",
    "    Finally, we will make use of reduce. Like filter and map the reduce function\n",
    "    also works on list.'\n",
    "    However, the result of the reduce is a single value. \n",
    "    Consider if you wanted to sum the values of a list. The sum is implemented by a lambda\n",
    "    "
   ]
  },
  {
   "cell_type": "code",
   "execution_count": 8,
   "metadata": {},
   "outputs": [
    {
     "name": "stdout",
     "output_type": "stream",
     "text": [
      "32\n"
     ]
    }
   ],
   "source": [
    "from functools import reduce\n",
    "\n",
    "l = [1, 10, 20, 3, -2, 0]\n",
    "result = reduce(lambda x,y: x+y,l)\n",
    "print(result)"
   ]
  },
  {
   "cell_type": "code",
   "execution_count": null,
   "metadata": {},
   "outputs": [],
   "source": []
  }
 ],
 "metadata": {
  "kernelspec": {
   "display_name": "Python 3",
   "language": "python",
   "name": "python3"
  },
  "language_info": {
   "codemirror_mode": {
    "name": "ipython",
    "version": 3
   },
   "file_extension": ".py",
   "mimetype": "text/x-python",
   "name": "python",
   "nbconvert_exporter": "python",
   "pygments_lexer": "ipython3",
   "version": "3.7.6"
  }
 },
 "nbformat": 4,
 "nbformat_minor": 4
}
